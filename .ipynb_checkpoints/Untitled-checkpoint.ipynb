{
 "cells": [
  {
   "cell_type": "code",
   "execution_count": 1,
   "id": "bd1560a6",
   "metadata": {},
   "outputs": [],
   "source": [
    "import sys\n",
    "import numpy as np\n",
    "import pandas as pd\n",
    "import matplotlib.pyplot as plt\n",
    "\n",
    "from sklearn.neural_network import MLPClassifier\n",
    "from sklearn.ensemble import RandomForestClassifier\n",
    "from sklearn.model_selection import train_test_split\n",
    "from sklearn.metrics import f1_score, accuracy_score"
   ]
  },
  {
   "cell_type": "code",
   "execution_count": 2,
   "id": "c3bdf196",
   "metadata": {},
   "outputs": [
    {
     "name": "stdout",
     "output_type": "stream",
     "text": [
      "<class 'pandas.core.frame.DataFrame'>\n",
      "RangeIndex: 695 entries, 0 to 694\n",
      "Data columns (total 19 columns):\n",
      " #   Column                Non-Null Count  Dtype \n",
      "---  ------                --------------  ----- \n",
      " 0   Unnamed: 0            695 non-null    int64 \n",
      " 1   Make                  695 non-null    object\n",
      " 2   Model                 695 non-null    object\n",
      " 3   Year of manufacture   695 non-null    int64 \n",
      " 4   Kilometer             695 non-null    int64 \n",
      " 5   Previous owners       695 non-null    int64 \n",
      " 6   Body style            695 non-null    object\n",
      " 7   Horsepower            695 non-null    int64 \n",
      " 8   Cubic capacity (ccm)  695 non-null    int64 \n",
      " 9   Cylinders             695 non-null    int64 \n",
      " 10  Doors                 695 non-null    int64 \n",
      " 11  Steering              695 non-null    object\n",
      " 12  Gearbox               695 non-null    object\n",
      " 13  Gears                 695 non-null    int64 \n",
      " 14  Transmission          695 non-null    object\n",
      " 15  Front breaks          695 non-null    object\n",
      " 16  Rear breaks           695 non-null    object\n",
      " 17  Fuel type             695 non-null    object\n",
      " 18  Price (£)             695 non-null    int64 \n",
      "dtypes: int64(10), object(9)\n",
      "memory usage: 103.3+ KB\n"
     ]
    }
   ],
   "source": [
    "df =  pd.read_csv(\"ANTT.csv\")\n",
    "df.info()"
   ]
  },
  {
   "cell_type": "code",
   "execution_count": 3,
   "id": "0b706dc4",
   "metadata": {},
   "outputs": [],
   "source": [
    "sys.path.append('./')"
   ]
  },
  {
   "cell_type": "code",
   "execution_count": 4,
   "id": "8e544ee9",
   "metadata": {},
   "outputs": [],
   "source": [
    "def prepare_ANTT_dataset(filename):\n",
    "    class_name = 'class'\n",
    "    df = pd.read_csv(filename, skipinitialspace = True, keep_default_na = True)\n",
    "    df = df.drop(df.columns[0],axis = 1)\n",
    "    new_col = []\n",
    "    for item in df['Price (£)']:\n",
    "        if 0 < item <= 30000:\n",
    "            new_col.append('Low Price')\n",
    "        else:\n",
    "            new_col.append('High Price')\n",
    "    df[class_name] = new_col\n",
    "    return df, class_name"
   ]
  },
  {
   "cell_type": "code",
   "execution_count": 5,
   "id": "0d37efa8",
   "metadata": {},
   "outputs": [],
   "source": [
    "from collections import defaultdict\n",
    "\n",
    "\n",
    "def prepare_dataset(df, class_name):\n",
    "\n",
    "    df = remove_missing_values(df)\n",
    "\n",
    "    numeric_columns = get_numeric_columns(df)\n",
    "\n",
    "    rdf = df\n",
    "\n",
    "    df, feature_names, class_values = one_hot_encoding(df, class_name)\n",
    "\n",
    "    real_feature_names = get_real_feature_names(rdf, numeric_columns, class_name)\n",
    "\n",
    "    rdf = rdf[real_feature_names + (class_values if isinstance(class_name, list) else [class_name])]\n",
    "\n",
    "    features_map = get_features_map(feature_names, real_feature_names)\n",
    "\n",
    "    return df, feature_names, class_values, numeric_columns, rdf, real_feature_names, features_map\n",
    "\n",
    "\n",
    "def get_features_map(feature_names, real_feature_names):\n",
    "    features_map = defaultdict(dict)\n",
    "    i = 0\n",
    "    j = 0\n",
    "    while i < len(feature_names) and j < len(real_feature_names):\n",
    "        #Nếu tên 2 cột thuộc tính giống nhau: \n",
    "        if feature_names[i] == real_feature_names[j]:\n",
    "            # Loại bỏ phần tiền tố được thêm vào khi thực hiện one-hot encoding sau đó lưu vào bản đồ\n",
    "            # keys = j, values = {'Thuộc tính': i }\n",
    "            features_map[j][feature_names[i].replace('%s=' % real_feature_names[j], '')] = i\n",
    "            i += 1\n",
    "            j += 1\n",
    "        #Nếu tên cột thuộc tính trong biến feature_names (sau khi OHE) bắt đầu bằng từ của cột thuộc tính ban đầu\n",
    "        elif feature_names[i].startswith(real_feature_names[j]):\n",
    "            # Loại bỏ phần tiền tố được thêm vào khi thực hiện one-hot encoding sau đó lưu vào bản đồ\n",
    "            # keys = j, values = {'Thuộc tính': i }\n",
    "            features_map[j][feature_names[i].replace('%s=' % real_feature_names[j], '')] = i\n",
    "            i += 1\n",
    "        else:\n",
    "            j += 1\n",
    "    return features_map\n",
    "\n",
    "\n",
    "def get_real_feature_names(rdf, numeric_columns, class_name):\n",
    "    if isinstance(class_name, list):\n",
    "        real_feature_names = [c for c in rdf.columns if c in numeric_columns and c not in class_name]\n",
    "        real_feature_names += [c for c in rdf.columns if c not in numeric_columns and c not in class_name]\n",
    "    else:\n",
    "        #Thêm toàn bộ tên cột kiểu số và kiểu phân loại vào list rồi lưu vào real_features_names.\n",
    "        real_feature_names = [c for c in rdf.columns if c in numeric_columns and c != class_name]\n",
    "        real_feature_names += [c for c in rdf.columns if c not in numeric_columns and c != class_name]\n",
    "    return real_feature_names\n",
    "\n",
    "\n",
    "def one_hot_encoding(df, class_name):\n",
    "    if not isinstance(class_name, list):\n",
    "        # dfX thực hiện One_hot_encoding (ứng với những sample có giá trị giống với giá trị của cột thì vị trí đó được đánh số 1)\n",
    "        dfX = pd.get_dummies(df[[c for c in df.columns if c != class_name]], prefix_sep='=')\n",
    "        # Lấy ra các giá trị khác nhau của biến target và gán số cho từng giá trị đó: (High Price = 0, Low Price = 1)\n",
    "        class_name_map = {v: k for k, v in enumerate(sorted(df[class_name].unique()))}\n",
    "        # Thay thế các giá trị đó bằng giá trị số tương ứng\n",
    "        dfY = df[class_name].map(class_name_map)\n",
    "        # Nhập dfX và dfY lại tạo thành dataframe hoàn chỉnh sau khi One_hot_encoding.\n",
    "        df = pd.concat([dfX, dfY], axis=1).reindex(dfX.index)\n",
    "        feature_names = list(dfX.columns) # Lưu toàn bộ biến độc lập vào kiểu danh sách sau đó lưu vào biến feature_name\n",
    "        class_values = sorted(class_name_map) # Sắp xếp lại giá trị số trong biến class_name_map\n",
    "    else: # isinstance(class_name, list)\n",
    "        dfX = pd.get_dummies(df[[c for c in df.columns if c not in class_name]], prefix_sep='=')\n",
    "        # class_name_map = {v: k for k, v in enumerate(sorted(class_name))}\n",
    "        class_values = sorted(class_name)\n",
    "        dfY = df[class_values]\n",
    "        df = pd.concat([dfX, dfY], axis=1).reindex(dfX.index)\n",
    "        feature_names = list(dfX.columns)\n",
    "    return df, feature_names, class_values\n",
    "\n",
    "\n",
    "def remove_missing_values(df):\n",
    "    for column_name, nbr_missing in df.isna().sum().to_dict().items():\n",
    "        if nbr_missing > 0:\n",
    "            if column_name in df._get_numeric_data().columns:\n",
    "                mean = df[column_name].mean()\n",
    "                df[column_name].fillna(mean, inplace=True)\n",
    "            else:\n",
    "                mode = df[column_name].mode().values[0]\n",
    "                df[column_name].fillna(mode, inplace=True)\n",
    "    return df\n",
    "\n",
    "\n",
    "def get_numeric_columns(df):\n",
    "    numeric_columns = list(df._get_numeric_data().columns)\n",
    "    return numeric_columns\n",
    "\n"
   ]
  },
  {
   "cell_type": "code",
   "execution_count": 6,
   "id": "ee8aeb2a",
   "metadata": {},
   "outputs": [],
   "source": [
    "def neuclidean(x, y):\n",
    "    return 0.5 * np.var(x - y) / (np.var(x) + np.var(y))\n",
    "\n",
    "\n",
    "def nmeandev(x, y):  # normalized mean deviation\n",
    "    return np.mean(np.abs(x-y)/np.max([np.abs(x), np.abs(y)], axis=0))\n",
    "\n",
    "def record2str(x, feature_names, numeric_columns):\n",
    "    xd = vector2dict(x, feature_names)\n",
    "    s = '{ '\n",
    "    for att, val in xd.items():\n",
    "        if att not in numeric_columns and val == 0.0:\n",
    "            continue\n",
    "        if att in numeric_columns:\n",
    "            s += '%s = %s, ' % (att, val)\n",
    "        else:\n",
    "            att_split = att.split('=')\n",
    "            s += '%s = %s, ' % (att_split[0], att_split[1])\n",
    "\n",
    "    s = s[:-2] + ' }'\n",
    "    return s\n",
    "def vector2dict(x, feature_names):\n",
    "    return {k: v for k, v in zip(feature_names, x)}"
   ]
  },
  {
   "cell_type": "markdown",
   "id": "208e6779",
   "metadata": {},
   "source": [
    "## Read and clean dataset"
   ]
  },
  {
   "cell_type": "code",
   "execution_count": 7,
   "id": "b1928a4d",
   "metadata": {},
   "outputs": [],
   "source": [
    "class_name = 'class'\n",
    "df = pd.read_csv('ANTT_1.csv', skipinitialspace = True, keep_default_na = True)\n",
    "df = df.drop(df.columns[0],axis = 1)\n",
    "new_col = []\n",
    "for item in df['Price (£)']:\n",
    "    if 0 < item <= 30000:\n",
    "        new_col.append('Low Price')\n",
    "    else:\n",
    "        new_col.append('High Price')\n",
    "df[class_name] = new_col\n",
    "df = df.drop('Price (£)', axis = 1)"
   ]
  },
  {
   "cell_type": "code",
   "execution_count": 8,
   "id": "3b03c60d",
   "metadata": {},
   "outputs": [
    {
     "data": {
      "text/html": [
       "<div>\n",
       "<style scoped>\n",
       "    .dataframe tbody tr th:only-of-type {\n",
       "        vertical-align: middle;\n",
       "    }\n",
       "\n",
       "    .dataframe tbody tr th {\n",
       "        vertical-align: top;\n",
       "    }\n",
       "\n",
       "    .dataframe thead th {\n",
       "        text-align: right;\n",
       "    }\n",
       "</style>\n",
       "<table border=\"1\" class=\"dataframe\">\n",
       "  <thead>\n",
       "    <tr style=\"text-align: right;\">\n",
       "      <th></th>\n",
       "      <th>Year of manufacture</th>\n",
       "      <th>Kilometer</th>\n",
       "      <th>Previous owners</th>\n",
       "      <th>Horsepower</th>\n",
       "      <th>Cubic capacity (ccm)</th>\n",
       "      <th>Cylinders</th>\n",
       "      <th>Doors</th>\n",
       "      <th>Steering</th>\n",
       "      <th>Gearbox</th>\n",
       "      <th>Gears</th>\n",
       "      <th>Transmission</th>\n",
       "      <th>Front breaks</th>\n",
       "      <th>Rear breaks</th>\n",
       "      <th>Fuel type</th>\n",
       "      <th>class</th>\n",
       "    </tr>\n",
       "  </thead>\n",
       "  <tbody>\n",
       "    <tr>\n",
       "      <th>0</th>\n",
       "      <td>2000</td>\n",
       "      <td>99800</td>\n",
       "      <td>3</td>\n",
       "      <td>251</td>\n",
       "      <td>1781</td>\n",
       "      <td>4</td>\n",
       "      <td>2</td>\n",
       "      <td>Left (LHD)</td>\n",
       "      <td>Manual</td>\n",
       "      <td>6</td>\n",
       "      <td>4WD</td>\n",
       "      <td>Disc</td>\n",
       "      <td>Disc</td>\n",
       "      <td>Petrol</td>\n",
       "      <td>Low Price</td>\n",
       "    </tr>\n",
       "    <tr>\n",
       "      <th>1</th>\n",
       "      <td>1979</td>\n",
       "      <td>82000</td>\n",
       "      <td>6</td>\n",
       "      <td>127</td>\n",
       "      <td>1962</td>\n",
       "      <td>4</td>\n",
       "      <td>2</td>\n",
       "      <td>Left (LHD)</td>\n",
       "      <td>Manual</td>\n",
       "      <td>5</td>\n",
       "      <td>Rear</td>\n",
       "      <td>Disc</td>\n",
       "      <td>Disc</td>\n",
       "      <td>Petrol</td>\n",
       "      <td>Low Price</td>\n",
       "    </tr>\n",
       "    <tr>\n",
       "      <th>2</th>\n",
       "      <td>1990</td>\n",
       "      <td>201000</td>\n",
       "      <td>3</td>\n",
       "      <td>147</td>\n",
       "      <td>2849</td>\n",
       "      <td>6</td>\n",
       "      <td>2</td>\n",
       "      <td>Left (LHD)</td>\n",
       "      <td>Automatic</td>\n",
       "      <td>4</td>\n",
       "      <td>Rear</td>\n",
       "      <td>Disc</td>\n",
       "      <td>Disc</td>\n",
       "      <td>Petrol</td>\n",
       "      <td>Low Price</td>\n",
       "    </tr>\n",
       "    <tr>\n",
       "      <th>3</th>\n",
       "      <td>1981</td>\n",
       "      <td>60000</td>\n",
       "      <td>3</td>\n",
       "      <td>205</td>\n",
       "      <td>2906</td>\n",
       "      <td>8</td>\n",
       "      <td>2</td>\n",
       "      <td>Left (LHD)</td>\n",
       "      <td>Manual</td>\n",
       "      <td>5</td>\n",
       "      <td>Rear</td>\n",
       "      <td>Disc</td>\n",
       "      <td>Disc</td>\n",
       "      <td>Petrol</td>\n",
       "      <td>High Price</td>\n",
       "    </tr>\n",
       "    <tr>\n",
       "      <th>4</th>\n",
       "      <td>1966</td>\n",
       "      <td>161000</td>\n",
       "      <td>5</td>\n",
       "      <td>150</td>\n",
       "      <td>2496</td>\n",
       "      <td>6</td>\n",
       "      <td>2</td>\n",
       "      <td>Left (LHD)</td>\n",
       "      <td>Manual</td>\n",
       "      <td>4</td>\n",
       "      <td>Rear</td>\n",
       "      <td>Disc</td>\n",
       "      <td>Disc</td>\n",
       "      <td>Petrol</td>\n",
       "      <td>High Price</td>\n",
       "    </tr>\n",
       "    <tr>\n",
       "      <th>...</th>\n",
       "      <td>...</td>\n",
       "      <td>...</td>\n",
       "      <td>...</td>\n",
       "      <td>...</td>\n",
       "      <td>...</td>\n",
       "      <td>...</td>\n",
       "      <td>...</td>\n",
       "      <td>...</td>\n",
       "      <td>...</td>\n",
       "      <td>...</td>\n",
       "      <td>...</td>\n",
       "      <td>...</td>\n",
       "      <td>...</td>\n",
       "      <td>...</td>\n",
       "      <td>...</td>\n",
       "    </tr>\n",
       "    <tr>\n",
       "      <th>690</th>\n",
       "      <td>2000</td>\n",
       "      <td>11</td>\n",
       "      <td>1</td>\n",
       "      <td>485</td>\n",
       "      <td>5935</td>\n",
       "      <td>12</td>\n",
       "      <td>2</td>\n",
       "      <td>Left (LHD)</td>\n",
       "      <td>Manual</td>\n",
       "      <td>6</td>\n",
       "      <td>Rear</td>\n",
       "      <td>Disc</td>\n",
       "      <td>Disc</td>\n",
       "      <td>Petrol</td>\n",
       "      <td>High Price</td>\n",
       "    </tr>\n",
       "    <tr>\n",
       "      <th>691</th>\n",
       "      <td>1959</td>\n",
       "      <td>115902</td>\n",
       "      <td>3</td>\n",
       "      <td>100</td>\n",
       "      <td>2000</td>\n",
       "      <td>4</td>\n",
       "      <td>2</td>\n",
       "      <td>Left (LHD)</td>\n",
       "      <td>Manual</td>\n",
       "      <td>4</td>\n",
       "      <td>Rear</td>\n",
       "      <td>Disc</td>\n",
       "      <td>Drum</td>\n",
       "      <td>Petrol</td>\n",
       "      <td>Low Price</td>\n",
       "    </tr>\n",
       "    <tr>\n",
       "      <th>692</th>\n",
       "      <td>1983</td>\n",
       "      <td>119895</td>\n",
       "      <td>6</td>\n",
       "      <td>231</td>\n",
       "      <td>4973</td>\n",
       "      <td>8</td>\n",
       "      <td>2</td>\n",
       "      <td>Left (LHD)</td>\n",
       "      <td>Automatic</td>\n",
       "      <td>4</td>\n",
       "      <td>Rear</td>\n",
       "      <td>Disc</td>\n",
       "      <td>Disc</td>\n",
       "      <td>Petrol</td>\n",
       "      <td>Low Price</td>\n",
       "    </tr>\n",
       "    <tr>\n",
       "      <th>693</th>\n",
       "      <td>1971</td>\n",
       "      <td>73971</td>\n",
       "      <td>2</td>\n",
       "      <td>130</td>\n",
       "      <td>2341</td>\n",
       "      <td>6</td>\n",
       "      <td>2</td>\n",
       "      <td>Left (LHD)</td>\n",
       "      <td>Manual</td>\n",
       "      <td>5</td>\n",
       "      <td>Rear</td>\n",
       "      <td>Disc</td>\n",
       "      <td>Disc</td>\n",
       "      <td>Petrol</td>\n",
       "      <td>High Price</td>\n",
       "    </tr>\n",
       "    <tr>\n",
       "      <th>694</th>\n",
       "      <td>2013</td>\n",
       "      <td>73971</td>\n",
       "      <td>2</td>\n",
       "      <td>339</td>\n",
       "      <td>4367</td>\n",
       "      <td>8</td>\n",
       "      <td>5</td>\n",
       "      <td>Right (RHD)</td>\n",
       "      <td>Automatic</td>\n",
       "      <td>8</td>\n",
       "      <td>4WD</td>\n",
       "      <td>Disc</td>\n",
       "      <td>Disc</td>\n",
       "      <td>Diesel</td>\n",
       "      <td>High Price</td>\n",
       "    </tr>\n",
       "  </tbody>\n",
       "</table>\n",
       "<p>695 rows × 15 columns</p>\n",
       "</div>"
      ],
      "text/plain": [
       "     Year of manufacture  Kilometer  Previous owners  Horsepower  \\\n",
       "0                   2000      99800                3         251   \n",
       "1                   1979      82000                6         127   \n",
       "2                   1990     201000                3         147   \n",
       "3                   1981      60000                3         205   \n",
       "4                   1966     161000                5         150   \n",
       "..                   ...        ...              ...         ...   \n",
       "690                 2000         11                1         485   \n",
       "691                 1959     115902                3         100   \n",
       "692                 1983     119895                6         231   \n",
       "693                 1971      73971                2         130   \n",
       "694                 2013      73971                2         339   \n",
       "\n",
       "     Cubic capacity (ccm)  Cylinders  Doors     Steering    Gearbox  Gears  \\\n",
       "0                    1781          4      2   Left (LHD)     Manual      6   \n",
       "1                    1962          4      2   Left (LHD)     Manual      5   \n",
       "2                    2849          6      2   Left (LHD)  Automatic      4   \n",
       "3                    2906          8      2   Left (LHD)     Manual      5   \n",
       "4                    2496          6      2   Left (LHD)     Manual      4   \n",
       "..                    ...        ...    ...          ...        ...    ...   \n",
       "690                  5935         12      2   Left (LHD)     Manual      6   \n",
       "691                  2000          4      2   Left (LHD)     Manual      4   \n",
       "692                  4973          8      2   Left (LHD)  Automatic      4   \n",
       "693                  2341          6      2   Left (LHD)     Manual      5   \n",
       "694                  4367          8      5  Right (RHD)  Automatic      8   \n",
       "\n",
       "    Transmission Front breaks Rear breaks Fuel type       class  \n",
       "0            4WD         Disc        Disc    Petrol   Low Price  \n",
       "1           Rear         Disc        Disc    Petrol   Low Price  \n",
       "2           Rear         Disc        Disc    Petrol   Low Price  \n",
       "3           Rear         Disc        Disc    Petrol  High Price  \n",
       "4           Rear         Disc        Disc    Petrol  High Price  \n",
       "..           ...          ...         ...       ...         ...  \n",
       "690         Rear         Disc        Disc    Petrol  High Price  \n",
       "691         Rear         Disc        Drum    Petrol   Low Price  \n",
       "692         Rear         Disc        Disc    Petrol   Low Price  \n",
       "693         Rear         Disc        Disc    Petrol  High Price  \n",
       "694          4WD         Disc        Disc    Diesel  High Price  \n",
       "\n",
       "[695 rows x 15 columns]"
      ]
     },
     "execution_count": 8,
     "metadata": {},
     "output_type": "execute_result"
    }
   ],
   "source": [
    "df"
   ]
  },
  {
   "cell_type": "code",
   "execution_count": 9,
   "id": "c4eb14cb",
   "metadata": {},
   "outputs": [],
   "source": [
    "df, feature_names, class_values, numeric_columns, rdf, real_feature_names, features_map = prepare_dataset(df,class_name)\n",
    "# df: lưu dataframe sau khi thực hiện One_hot_encoding.\n",
    "# feature_names: Danh sách các cột tạo ra sau khi thực hiện One_hot_encoding với các attribute\n",
    "# class_values: Lấy ra các giá trị khác nhau của biến target và gán số cho từng giá trị đó: \n",
    "# rồi sắp xếp theo thứ tự tăng dần: (High Price = 0, Low Price = 1) class_values = [0,1]\n",
    "# numeric_columns: Lưu tất cả các tên cột có giá trị là số trong df ban đầu khi chưa encode.\n",
    "# real_feature_names: lưu trữ toàn bộ cột dữ liệu của df ban đầu trừ cột class\n",
    "# rdf: lưu trữ lại dataframe ban đầu trước khi thực hiện encode và giữ lại cột class\n",
    "# features_map: Bản đồ này sẽ chứa thông tin về cách các biến độc lập trong dữ liệu đã được one-hot encoded \n",
    "# tương ứng với các biến độc lập trong dữ liệu gốc."
   ]
  },
  {
   "cell_type": "code",
   "execution_count": 10,
   "id": "653b4036",
   "metadata": {},
   "outputs": [
    {
     "data": {
      "text/plain": [
       "(695, 15)"
      ]
     },
     "execution_count": 10,
     "metadata": {},
     "output_type": "execute_result"
    }
   ],
   "source": [
    "rdf.shape"
   ]
  },
  {
   "cell_type": "code",
   "execution_count": 11,
   "id": "d3dda765",
   "metadata": {},
   "outputs": [
    {
     "data": {
      "text/html": [
       "<div>\n",
       "<style scoped>\n",
       "    .dataframe tbody tr th:only-of-type {\n",
       "        vertical-align: middle;\n",
       "    }\n",
       "\n",
       "    .dataframe tbody tr th {\n",
       "        vertical-align: top;\n",
       "    }\n",
       "\n",
       "    .dataframe thead th {\n",
       "        text-align: right;\n",
       "    }\n",
       "</style>\n",
       "<table border=\"1\" class=\"dataframe\">\n",
       "  <thead>\n",
       "    <tr style=\"text-align: right;\">\n",
       "      <th></th>\n",
       "      <th>Year of manufacture</th>\n",
       "      <th>Kilometer</th>\n",
       "      <th>Previous owners</th>\n",
       "      <th>Horsepower</th>\n",
       "      <th>Cubic capacity (ccm)</th>\n",
       "      <th>Cylinders</th>\n",
       "      <th>Doors</th>\n",
       "      <th>Gears</th>\n",
       "      <th>Steering=Left (LHD)</th>\n",
       "      <th>Steering=Right (RHD)</th>\n",
       "      <th>...</th>\n",
       "      <th>Transmission=4WD</th>\n",
       "      <th>Transmission=Front</th>\n",
       "      <th>Transmission=Rear</th>\n",
       "      <th>Front breaks=Disc</th>\n",
       "      <th>Front breaks=Drum</th>\n",
       "      <th>Rear breaks=Disc</th>\n",
       "      <th>Rear breaks=Drum</th>\n",
       "      <th>Fuel type=Diesel</th>\n",
       "      <th>Fuel type=Petrol</th>\n",
       "      <th>class</th>\n",
       "    </tr>\n",
       "  </thead>\n",
       "  <tbody>\n",
       "    <tr>\n",
       "      <th>0</th>\n",
       "      <td>2000</td>\n",
       "      <td>99800</td>\n",
       "      <td>3</td>\n",
       "      <td>251</td>\n",
       "      <td>1781</td>\n",
       "      <td>4</td>\n",
       "      <td>2</td>\n",
       "      <td>6</td>\n",
       "      <td>True</td>\n",
       "      <td>False</td>\n",
       "      <td>...</td>\n",
       "      <td>True</td>\n",
       "      <td>False</td>\n",
       "      <td>False</td>\n",
       "      <td>True</td>\n",
       "      <td>False</td>\n",
       "      <td>True</td>\n",
       "      <td>False</td>\n",
       "      <td>False</td>\n",
       "      <td>True</td>\n",
       "      <td>1</td>\n",
       "    </tr>\n",
       "    <tr>\n",
       "      <th>1</th>\n",
       "      <td>1979</td>\n",
       "      <td>82000</td>\n",
       "      <td>6</td>\n",
       "      <td>127</td>\n",
       "      <td>1962</td>\n",
       "      <td>4</td>\n",
       "      <td>2</td>\n",
       "      <td>5</td>\n",
       "      <td>True</td>\n",
       "      <td>False</td>\n",
       "      <td>...</td>\n",
       "      <td>False</td>\n",
       "      <td>False</td>\n",
       "      <td>True</td>\n",
       "      <td>True</td>\n",
       "      <td>False</td>\n",
       "      <td>True</td>\n",
       "      <td>False</td>\n",
       "      <td>False</td>\n",
       "      <td>True</td>\n",
       "      <td>1</td>\n",
       "    </tr>\n",
       "    <tr>\n",
       "      <th>2</th>\n",
       "      <td>1990</td>\n",
       "      <td>201000</td>\n",
       "      <td>3</td>\n",
       "      <td>147</td>\n",
       "      <td>2849</td>\n",
       "      <td>6</td>\n",
       "      <td>2</td>\n",
       "      <td>4</td>\n",
       "      <td>True</td>\n",
       "      <td>False</td>\n",
       "      <td>...</td>\n",
       "      <td>False</td>\n",
       "      <td>False</td>\n",
       "      <td>True</td>\n",
       "      <td>True</td>\n",
       "      <td>False</td>\n",
       "      <td>True</td>\n",
       "      <td>False</td>\n",
       "      <td>False</td>\n",
       "      <td>True</td>\n",
       "      <td>1</td>\n",
       "    </tr>\n",
       "    <tr>\n",
       "      <th>3</th>\n",
       "      <td>1981</td>\n",
       "      <td>60000</td>\n",
       "      <td>3</td>\n",
       "      <td>205</td>\n",
       "      <td>2906</td>\n",
       "      <td>8</td>\n",
       "      <td>2</td>\n",
       "      <td>5</td>\n",
       "      <td>True</td>\n",
       "      <td>False</td>\n",
       "      <td>...</td>\n",
       "      <td>False</td>\n",
       "      <td>False</td>\n",
       "      <td>True</td>\n",
       "      <td>True</td>\n",
       "      <td>False</td>\n",
       "      <td>True</td>\n",
       "      <td>False</td>\n",
       "      <td>False</td>\n",
       "      <td>True</td>\n",
       "      <td>0</td>\n",
       "    </tr>\n",
       "    <tr>\n",
       "      <th>4</th>\n",
       "      <td>1966</td>\n",
       "      <td>161000</td>\n",
       "      <td>5</td>\n",
       "      <td>150</td>\n",
       "      <td>2496</td>\n",
       "      <td>6</td>\n",
       "      <td>2</td>\n",
       "      <td>4</td>\n",
       "      <td>True</td>\n",
       "      <td>False</td>\n",
       "      <td>...</td>\n",
       "      <td>False</td>\n",
       "      <td>False</td>\n",
       "      <td>True</td>\n",
       "      <td>True</td>\n",
       "      <td>False</td>\n",
       "      <td>True</td>\n",
       "      <td>False</td>\n",
       "      <td>False</td>\n",
       "      <td>True</td>\n",
       "      <td>0</td>\n",
       "    </tr>\n",
       "    <tr>\n",
       "      <th>...</th>\n",
       "      <td>...</td>\n",
       "      <td>...</td>\n",
       "      <td>...</td>\n",
       "      <td>...</td>\n",
       "      <td>...</td>\n",
       "      <td>...</td>\n",
       "      <td>...</td>\n",
       "      <td>...</td>\n",
       "      <td>...</td>\n",
       "      <td>...</td>\n",
       "      <td>...</td>\n",
       "      <td>...</td>\n",
       "      <td>...</td>\n",
       "      <td>...</td>\n",
       "      <td>...</td>\n",
       "      <td>...</td>\n",
       "      <td>...</td>\n",
       "      <td>...</td>\n",
       "      <td>...</td>\n",
       "      <td>...</td>\n",
       "      <td>...</td>\n",
       "    </tr>\n",
       "    <tr>\n",
       "      <th>690</th>\n",
       "      <td>2000</td>\n",
       "      <td>11</td>\n",
       "      <td>1</td>\n",
       "      <td>485</td>\n",
       "      <td>5935</td>\n",
       "      <td>12</td>\n",
       "      <td>2</td>\n",
       "      <td>6</td>\n",
       "      <td>True</td>\n",
       "      <td>False</td>\n",
       "      <td>...</td>\n",
       "      <td>False</td>\n",
       "      <td>False</td>\n",
       "      <td>True</td>\n",
       "      <td>True</td>\n",
       "      <td>False</td>\n",
       "      <td>True</td>\n",
       "      <td>False</td>\n",
       "      <td>False</td>\n",
       "      <td>True</td>\n",
       "      <td>0</td>\n",
       "    </tr>\n",
       "    <tr>\n",
       "      <th>691</th>\n",
       "      <td>1959</td>\n",
       "      <td>115902</td>\n",
       "      <td>3</td>\n",
       "      <td>100</td>\n",
       "      <td>2000</td>\n",
       "      <td>4</td>\n",
       "      <td>2</td>\n",
       "      <td>4</td>\n",
       "      <td>True</td>\n",
       "      <td>False</td>\n",
       "      <td>...</td>\n",
       "      <td>False</td>\n",
       "      <td>False</td>\n",
       "      <td>True</td>\n",
       "      <td>True</td>\n",
       "      <td>False</td>\n",
       "      <td>False</td>\n",
       "      <td>True</td>\n",
       "      <td>False</td>\n",
       "      <td>True</td>\n",
       "      <td>1</td>\n",
       "    </tr>\n",
       "    <tr>\n",
       "      <th>692</th>\n",
       "      <td>1983</td>\n",
       "      <td>119895</td>\n",
       "      <td>6</td>\n",
       "      <td>231</td>\n",
       "      <td>4973</td>\n",
       "      <td>8</td>\n",
       "      <td>2</td>\n",
       "      <td>4</td>\n",
       "      <td>True</td>\n",
       "      <td>False</td>\n",
       "      <td>...</td>\n",
       "      <td>False</td>\n",
       "      <td>False</td>\n",
       "      <td>True</td>\n",
       "      <td>True</td>\n",
       "      <td>False</td>\n",
       "      <td>True</td>\n",
       "      <td>False</td>\n",
       "      <td>False</td>\n",
       "      <td>True</td>\n",
       "      <td>1</td>\n",
       "    </tr>\n",
       "    <tr>\n",
       "      <th>693</th>\n",
       "      <td>1971</td>\n",
       "      <td>73971</td>\n",
       "      <td>2</td>\n",
       "      <td>130</td>\n",
       "      <td>2341</td>\n",
       "      <td>6</td>\n",
       "      <td>2</td>\n",
       "      <td>5</td>\n",
       "      <td>True</td>\n",
       "      <td>False</td>\n",
       "      <td>...</td>\n",
       "      <td>False</td>\n",
       "      <td>False</td>\n",
       "      <td>True</td>\n",
       "      <td>True</td>\n",
       "      <td>False</td>\n",
       "      <td>True</td>\n",
       "      <td>False</td>\n",
       "      <td>False</td>\n",
       "      <td>True</td>\n",
       "      <td>0</td>\n",
       "    </tr>\n",
       "    <tr>\n",
       "      <th>694</th>\n",
       "      <td>2013</td>\n",
       "      <td>73971</td>\n",
       "      <td>2</td>\n",
       "      <td>339</td>\n",
       "      <td>4367</td>\n",
       "      <td>8</td>\n",
       "      <td>5</td>\n",
       "      <td>8</td>\n",
       "      <td>False</td>\n",
       "      <td>True</td>\n",
       "      <td>...</td>\n",
       "      <td>True</td>\n",
       "      <td>False</td>\n",
       "      <td>False</td>\n",
       "      <td>True</td>\n",
       "      <td>False</td>\n",
       "      <td>True</td>\n",
       "      <td>False</td>\n",
       "      <td>True</td>\n",
       "      <td>False</td>\n",
       "      <td>0</td>\n",
       "    </tr>\n",
       "  </tbody>\n",
       "</table>\n",
       "<p>695 rows × 23 columns</p>\n",
       "</div>"
      ],
      "text/plain": [
       "     Year of manufacture  Kilometer  Previous owners  Horsepower  \\\n",
       "0                   2000      99800                3         251   \n",
       "1                   1979      82000                6         127   \n",
       "2                   1990     201000                3         147   \n",
       "3                   1981      60000                3         205   \n",
       "4                   1966     161000                5         150   \n",
       "..                   ...        ...              ...         ...   \n",
       "690                 2000         11                1         485   \n",
       "691                 1959     115902                3         100   \n",
       "692                 1983     119895                6         231   \n",
       "693                 1971      73971                2         130   \n",
       "694                 2013      73971                2         339   \n",
       "\n",
       "     Cubic capacity (ccm)  Cylinders  Doors  Gears  Steering=Left (LHD)  \\\n",
       "0                    1781          4      2      6                 True   \n",
       "1                    1962          4      2      5                 True   \n",
       "2                    2849          6      2      4                 True   \n",
       "3                    2906          8      2      5                 True   \n",
       "4                    2496          6      2      4                 True   \n",
       "..                    ...        ...    ...    ...                  ...   \n",
       "690                  5935         12      2      6                 True   \n",
       "691                  2000          4      2      4                 True   \n",
       "692                  4973          8      2      4                 True   \n",
       "693                  2341          6      2      5                 True   \n",
       "694                  4367          8      5      8                False   \n",
       "\n",
       "     Steering=Right (RHD)  ...  Transmission=4WD  Transmission=Front  \\\n",
       "0                   False  ...              True               False   \n",
       "1                   False  ...             False               False   \n",
       "2                   False  ...             False               False   \n",
       "3                   False  ...             False               False   \n",
       "4                   False  ...             False               False   \n",
       "..                    ...  ...               ...                 ...   \n",
       "690                 False  ...             False               False   \n",
       "691                 False  ...             False               False   \n",
       "692                 False  ...             False               False   \n",
       "693                 False  ...             False               False   \n",
       "694                  True  ...              True               False   \n",
       "\n",
       "     Transmission=Rear  Front breaks=Disc  Front breaks=Drum  \\\n",
       "0                False               True              False   \n",
       "1                 True               True              False   \n",
       "2                 True               True              False   \n",
       "3                 True               True              False   \n",
       "4                 True               True              False   \n",
       "..                 ...                ...                ...   \n",
       "690               True               True              False   \n",
       "691               True               True              False   \n",
       "692               True               True              False   \n",
       "693               True               True              False   \n",
       "694              False               True              False   \n",
       "\n",
       "     Rear breaks=Disc  Rear breaks=Drum  Fuel type=Diesel  Fuel type=Petrol  \\\n",
       "0                True             False             False              True   \n",
       "1                True             False             False              True   \n",
       "2                True             False             False              True   \n",
       "3                True             False             False              True   \n",
       "4                True             False             False              True   \n",
       "..                ...               ...               ...               ...   \n",
       "690              True             False             False              True   \n",
       "691             False              True             False              True   \n",
       "692              True             False             False              True   \n",
       "693              True             False             False              True   \n",
       "694              True             False              True             False   \n",
       "\n",
       "     class  \n",
       "0        1  \n",
       "1        1  \n",
       "2        1  \n",
       "3        0  \n",
       "4        0  \n",
       "..     ...  \n",
       "690      0  \n",
       "691      1  \n",
       "692      1  \n",
       "693      0  \n",
       "694      0  \n",
       "\n",
       "[695 rows x 23 columns]"
      ]
     },
     "execution_count": 11,
     "metadata": {},
     "output_type": "execute_result"
    }
   ],
   "source": [
    "df"
   ]
  },
  {
   "cell_type": "markdown",
   "id": "deeb69f6",
   "metadata": {},
   "source": [
    "## Split to train & test"
   ]
  },
  {
   "cell_type": "code",
   "execution_count": 12,
   "id": "b204af28",
   "metadata": {},
   "outputs": [
    {
     "data": {
      "text/plain": [
       "array([[2000, 99800, 3, ..., False, False, True],\n",
       "       [1979, 82000, 6, ..., False, False, True],\n",
       "       [1990, 201000, 3, ..., False, False, True],\n",
       "       ...,\n",
       "       [1983, 119895, 6, ..., False, False, True],\n",
       "       [1971, 73971, 2, ..., False, False, True],\n",
       "       [2013, 73971, 2, ..., False, True, False]], dtype=object)"
      ]
     },
     "execution_count": 12,
     "metadata": {},
     "output_type": "execute_result"
    }
   ],
   "source": [
    "#Lưu trữ toàn bộ giá trị của toàn bộ hàng dữ liệu sau khi thực hiện encode. (Mỗi hàng chứa 504 giá trị nên\n",
    "# mỗi phần tử trong list sẽ là một list gồm có 504 giá trị kiểu số nguyên)\n",
    "df[feature_names].values "
   ]
  },
  {
   "cell_type": "code",
   "execution_count": 13,
   "id": "7aa2916f",
   "metadata": {},
   "outputs": [
    {
     "data": {
      "text/plain": [
       "array([1, 1, 1, 0, 0, 1, 0, 1, 1, 0, 0, 0, 0, 0, 0, 0, 1, 1, 0, 0, 0, 0,\n",
       "       0, 0, 1, 0, 0, 0, 0, 0, 1, 0, 0, 1, 1, 0, 0, 0, 0, 1, 0, 0, 0, 0,\n",
       "       0, 0, 1, 0, 0, 0, 0, 0, 1, 1, 1, 1, 1, 1, 1, 0, 0, 0, 0, 1, 0, 0,\n",
       "       1, 1, 1, 1, 0, 1, 0, 1, 1, 1, 1, 1, 0, 0, 1, 0, 1, 1, 0, 1, 0, 1,\n",
       "       0, 1, 0, 1, 0, 1, 0, 0, 0, 0, 1, 1, 0, 0, 0, 0, 0, 0, 0, 0, 0, 0,\n",
       "       1, 1, 0, 1, 1, 1, 0, 1, 0, 1, 0, 0, 0, 1, 0, 0, 1, 0, 0, 0, 0, 0,\n",
       "       0, 0, 1, 0, 1, 0, 0, 1, 0, 0, 1, 0, 0, 0, 0, 0, 0, 0, 0, 0, 0, 1,\n",
       "       1, 0, 0, 1, 1, 1, 1, 1, 1, 0, 0, 1, 0, 1, 0, 0, 0, 0, 0, 1, 0, 1,\n",
       "       0, 1, 0, 0, 1, 0, 0, 1, 0, 1, 0, 0, 1, 0, 0, 0, 0, 0, 0, 1, 1, 0,\n",
       "       0, 1, 1, 0, 0, 0, 0, 1, 0, 0, 0, 0, 0, 0, 0, 0, 0, 1, 0, 0, 1, 0,\n",
       "       0, 1, 0, 0, 0, 1, 0, 0, 1, 0, 0, 1, 0, 0, 1, 1, 0, 0, 1, 1, 0, 0,\n",
       "       0, 0, 0, 1, 0, 0, 1, 1, 1, 1, 0, 1, 1, 0, 1, 1, 1, 0, 1, 1, 1, 1,\n",
       "       1, 1, 1, 1, 0, 1, 1, 1, 1, 1, 1, 1, 1, 1, 1, 1, 1, 0, 1, 0, 1, 1,\n",
       "       1, 1, 1, 1, 1, 1, 1, 1, 1, 0, 0, 0, 1, 1, 0, 0, 0, 0, 0, 0, 1, 0,\n",
       "       0, 0, 1, 0, 0, 1, 0, 0, 0, 0, 0, 0, 0, 0, 1, 1, 1, 1, 1, 0, 0, 0,\n",
       "       1, 0, 0, 0, 0, 0, 0, 0, 1, 0, 1, 1, 1, 1, 0, 0, 1, 1, 1, 0, 0, 0,\n",
       "       0, 0, 0, 0, 1, 0, 0, 1, 0, 0, 1, 1, 0, 1, 1, 0, 0, 1, 0, 1, 0, 0,\n",
       "       0, 1, 0, 0, 0, 0, 0, 0, 0, 0, 0, 0, 0, 0, 0, 1, 0, 0, 1, 0, 0, 0,\n",
       "       0, 1, 0, 0, 0, 0, 0, 0, 0, 0, 0, 1, 0, 0, 0, 0, 0, 0, 0, 0, 0, 0,\n",
       "       0, 0, 0, 0, 1, 0, 0, 0, 0, 0, 0, 0, 0, 0, 0, 0, 0, 0, 0, 0, 0, 0,\n",
       "       0, 0, 0, 0, 1, 0, 0, 0, 0, 0, 0, 0, 0, 0, 0, 0, 0, 0, 0, 0, 0, 1,\n",
       "       1, 0, 0, 1, 0, 0, 0, 1, 0, 1, 1, 0, 0, 0, 0, 0, 1, 0, 0, 1, 0, 0,\n",
       "       1, 1, 0, 0, 0, 1, 0, 0, 1, 0, 1, 1, 0, 0, 0, 0, 0, 0, 0, 0, 0, 0,\n",
       "       1, 0, 1, 1, 0, 0, 0, 0, 0, 0, 0, 0, 0, 0, 0, 0, 0, 0, 0, 0, 0, 0,\n",
       "       1, 0, 0, 1, 0, 0, 0, 1, 1, 0, 0, 0, 0, 1, 1, 0, 0, 0, 0, 1, 1, 1,\n",
       "       0, 0, 0, 0, 0, 0, 0, 0, 0, 0, 0, 1, 1, 1, 0, 0, 0, 0, 0, 0, 0, 0,\n",
       "       0, 0, 0, 0, 1, 0, 0, 1, 0, 0, 1, 0, 0, 0, 0, 0, 1, 0, 0, 1, 0, 1,\n",
       "       0, 0, 0, 1, 0, 1, 0, 0, 0, 0, 0, 0, 0, 0, 0, 0, 0, 0, 0, 0, 0, 0,\n",
       "       0, 0, 0, 1, 0, 0, 0, 1, 0, 0, 0, 0, 0, 0, 0, 1, 0, 1, 0, 0, 0, 0,\n",
       "       0, 0, 0, 1, 1, 0, 0, 1, 0, 1, 0, 0, 0, 0, 0, 0, 1, 0, 0, 0, 0, 0,\n",
       "       0, 0, 0, 1, 0, 0, 1, 0, 0, 0, 0, 0, 0, 0, 1, 0, 0, 1, 1, 0, 1, 1,\n",
       "       0, 1, 1, 0, 0, 1, 1, 0, 0, 1, 1, 0, 0], dtype=int64)"
      ]
     },
     "execution_count": 13,
     "metadata": {},
     "output_type": "execute_result"
    }
   ],
   "source": [
    "#Lưu trữ toàn bộ giá trị target của các hàng dữ liệu (đã được encode)\n",
    "df[class_name].values"
   ]
  },
  {
   "cell_type": "code",
   "execution_count": 14,
   "id": "4022a24e",
   "metadata": {},
   "outputs": [
    {
     "data": {
      "text/plain": [
       "array([[2000, 99800, 3, ..., 'Disc', 'Disc', 'Petrol'],\n",
       "       [1979, 82000, 6, ..., 'Disc', 'Disc', 'Petrol'],\n",
       "       [1990, 201000, 3, ..., 'Disc', 'Disc', 'Petrol'],\n",
       "       ...,\n",
       "       [1983, 119895, 6, ..., 'Disc', 'Disc', 'Petrol'],\n",
       "       [1971, 73971, 2, ..., 'Disc', 'Disc', 'Petrol'],\n",
       "       [2013, 73971, 2, ..., 'Disc', 'Disc', 'Diesel']], dtype=object)"
      ]
     },
     "execution_count": 14,
     "metadata": {},
     "output_type": "execute_result"
    }
   ],
   "source": [
    "#Lưu trữ toàn bộ giá trị của toàn bộ hàng dữ liệu trước khi thực hiện encode. (Mỗi hàng chứa 18 giá trị nên\n",
    "# mỗi phần tử trong list sẽ là một list gồm có 18 giá trị kiểu khác nhau)\n",
    "rdf[real_feature_names].values"
   ]
  },
  {
   "cell_type": "code",
   "execution_count": 15,
   "id": "d1b97425",
   "metadata": {},
   "outputs": [
    {
     "data": {
      "text/plain": [
       "array(['Low Price', 'Low Price', 'Low Price', 'High Price', 'High Price',\n",
       "       'Low Price', 'High Price', 'Low Price', 'Low Price', 'High Price',\n",
       "       'High Price', 'High Price', 'High Price', 'High Price',\n",
       "       'High Price', 'High Price', 'Low Price', 'Low Price', 'High Price',\n",
       "       'High Price', 'High Price', 'High Price', 'High Price',\n",
       "       'High Price', 'Low Price', 'High Price', 'High Price',\n",
       "       'High Price', 'High Price', 'High Price', 'Low Price',\n",
       "       'High Price', 'High Price', 'Low Price', 'Low Price', 'High Price',\n",
       "       'High Price', 'High Price', 'High Price', 'Low Price',\n",
       "       'High Price', 'High Price', 'High Price', 'High Price',\n",
       "       'High Price', 'High Price', 'Low Price', 'High Price',\n",
       "       'High Price', 'High Price', 'High Price', 'High Price',\n",
       "       'Low Price', 'Low Price', 'Low Price', 'Low Price', 'Low Price',\n",
       "       'Low Price', 'Low Price', 'High Price', 'High Price', 'High Price',\n",
       "       'High Price', 'Low Price', 'High Price', 'High Price', 'Low Price',\n",
       "       'Low Price', 'Low Price', 'Low Price', 'High Price', 'Low Price',\n",
       "       'High Price', 'Low Price', 'Low Price', 'Low Price', 'Low Price',\n",
       "       'Low Price', 'High Price', 'High Price', 'Low Price', 'High Price',\n",
       "       'Low Price', 'Low Price', 'High Price', 'Low Price', 'High Price',\n",
       "       'Low Price', 'High Price', 'Low Price', 'High Price', 'Low Price',\n",
       "       'High Price', 'Low Price', 'High Price', 'High Price',\n",
       "       'High Price', 'High Price', 'Low Price', 'Low Price', 'High Price',\n",
       "       'High Price', 'High Price', 'High Price', 'High Price',\n",
       "       'High Price', 'High Price', 'High Price', 'High Price',\n",
       "       'High Price', 'Low Price', 'Low Price', 'High Price', 'Low Price',\n",
       "       'Low Price', 'Low Price', 'High Price', 'Low Price', 'High Price',\n",
       "       'Low Price', 'High Price', 'High Price', 'High Price', 'Low Price',\n",
       "       'High Price', 'High Price', 'Low Price', 'High Price',\n",
       "       'High Price', 'High Price', 'High Price', 'High Price',\n",
       "       'High Price', 'High Price', 'Low Price', 'High Price', 'Low Price',\n",
       "       'High Price', 'High Price', 'Low Price', 'High Price',\n",
       "       'High Price', 'Low Price', 'High Price', 'High Price',\n",
       "       'High Price', 'High Price', 'High Price', 'High Price',\n",
       "       'High Price', 'High Price', 'High Price', 'High Price',\n",
       "       'Low Price', 'Low Price', 'High Price', 'High Price', 'Low Price',\n",
       "       'Low Price', 'Low Price', 'Low Price', 'Low Price', 'Low Price',\n",
       "       'High Price', 'High Price', 'Low Price', 'High Price', 'Low Price',\n",
       "       'High Price', 'High Price', 'High Price', 'High Price',\n",
       "       'High Price', 'Low Price', 'High Price', 'Low Price', 'High Price',\n",
       "       'Low Price', 'High Price', 'High Price', 'Low Price', 'High Price',\n",
       "       'High Price', 'Low Price', 'High Price', 'Low Price', 'High Price',\n",
       "       'High Price', 'Low Price', 'High Price', 'High Price',\n",
       "       'High Price', 'High Price', 'High Price', 'High Price',\n",
       "       'Low Price', 'Low Price', 'High Price', 'High Price', 'Low Price',\n",
       "       'Low Price', 'High Price', 'High Price', 'High Price',\n",
       "       'High Price', 'Low Price', 'High Price', 'High Price',\n",
       "       'High Price', 'High Price', 'High Price', 'High Price',\n",
       "       'High Price', 'High Price', 'High Price', 'Low Price',\n",
       "       'High Price', 'High Price', 'Low Price', 'High Price',\n",
       "       'High Price', 'Low Price', 'High Price', 'High Price',\n",
       "       'High Price', 'Low Price', 'High Price', 'High Price', 'Low Price',\n",
       "       'High Price', 'High Price', 'Low Price', 'High Price',\n",
       "       'High Price', 'Low Price', 'Low Price', 'High Price', 'High Price',\n",
       "       'Low Price', 'Low Price', 'High Price', 'High Price', 'High Price',\n",
       "       'High Price', 'High Price', 'Low Price', 'High Price',\n",
       "       'High Price', 'Low Price', 'Low Price', 'Low Price', 'Low Price',\n",
       "       'High Price', 'Low Price', 'Low Price', 'High Price', 'Low Price',\n",
       "       'Low Price', 'Low Price', 'High Price', 'Low Price', 'Low Price',\n",
       "       'Low Price', 'Low Price', 'Low Price', 'Low Price', 'Low Price',\n",
       "       'Low Price', 'High Price', 'Low Price', 'Low Price', 'Low Price',\n",
       "       'Low Price', 'Low Price', 'Low Price', 'Low Price', 'Low Price',\n",
       "       'Low Price', 'Low Price', 'Low Price', 'Low Price', 'High Price',\n",
       "       'Low Price', 'High Price', 'Low Price', 'Low Price', 'Low Price',\n",
       "       'Low Price', 'Low Price', 'Low Price', 'Low Price', 'Low Price',\n",
       "       'Low Price', 'Low Price', 'Low Price', 'High Price', 'High Price',\n",
       "       'High Price', 'Low Price', 'Low Price', 'High Price', 'High Price',\n",
       "       'High Price', 'High Price', 'High Price', 'High Price',\n",
       "       'Low Price', 'High Price', 'High Price', 'High Price', 'Low Price',\n",
       "       'High Price', 'High Price', 'Low Price', 'High Price',\n",
       "       'High Price', 'High Price', 'High Price', 'High Price',\n",
       "       'High Price', 'High Price', 'High Price', 'Low Price', 'Low Price',\n",
       "       'Low Price', 'Low Price', 'Low Price', 'High Price', 'High Price',\n",
       "       'High Price', 'Low Price', 'High Price', 'High Price',\n",
       "       'High Price', 'High Price', 'High Price', 'High Price',\n",
       "       'High Price', 'Low Price', 'High Price', 'Low Price', 'Low Price',\n",
       "       'Low Price', 'Low Price', 'High Price', 'High Price', 'Low Price',\n",
       "       'Low Price', 'Low Price', 'High Price', 'High Price', 'High Price',\n",
       "       'High Price', 'High Price', 'High Price', 'High Price',\n",
       "       'Low Price', 'High Price', 'High Price', 'Low Price', 'High Price',\n",
       "       'High Price', 'Low Price', 'Low Price', 'High Price', 'Low Price',\n",
       "       'Low Price', 'High Price', 'High Price', 'Low Price', 'High Price',\n",
       "       'Low Price', 'High Price', 'High Price', 'High Price', 'Low Price',\n",
       "       'High Price', 'High Price', 'High Price', 'High Price',\n",
       "       'High Price', 'High Price', 'High Price', 'High Price',\n",
       "       'High Price', 'High Price', 'High Price', 'High Price',\n",
       "       'High Price', 'Low Price', 'High Price', 'High Price', 'Low Price',\n",
       "       'High Price', 'High Price', 'High Price', 'High Price',\n",
       "       'Low Price', 'High Price', 'High Price', 'High Price',\n",
       "       'High Price', 'High Price', 'High Price', 'High Price',\n",
       "       'High Price', 'High Price', 'Low Price', 'High Price',\n",
       "       'High Price', 'High Price', 'High Price', 'High Price',\n",
       "       'High Price', 'High Price', 'High Price', 'High Price',\n",
       "       'High Price', 'High Price', 'High Price', 'High Price',\n",
       "       'High Price', 'Low Price', 'High Price', 'High Price',\n",
       "       'High Price', 'High Price', 'High Price', 'High Price',\n",
       "       'High Price', 'High Price', 'High Price', 'High Price',\n",
       "       'High Price', 'High Price', 'High Price', 'High Price',\n",
       "       'High Price', 'High Price', 'High Price', 'High Price',\n",
       "       'High Price', 'High Price', 'High Price', 'Low Price',\n",
       "       'High Price', 'High Price', 'High Price', 'High Price',\n",
       "       'High Price', 'High Price', 'High Price', 'High Price',\n",
       "       'High Price', 'High Price', 'High Price', 'High Price',\n",
       "       'High Price', 'High Price', 'High Price', 'High Price',\n",
       "       'Low Price', 'Low Price', 'High Price', 'High Price', 'Low Price',\n",
       "       'High Price', 'High Price', 'High Price', 'Low Price',\n",
       "       'High Price', 'Low Price', 'Low Price', 'High Price', 'High Price',\n",
       "       'High Price', 'High Price', 'High Price', 'Low Price',\n",
       "       'High Price', 'High Price', 'Low Price', 'High Price',\n",
       "       'High Price', 'Low Price', 'Low Price', 'High Price', 'High Price',\n",
       "       'High Price', 'Low Price', 'High Price', 'High Price', 'Low Price',\n",
       "       'High Price', 'Low Price', 'Low Price', 'High Price', 'High Price',\n",
       "       'High Price', 'High Price', 'High Price', 'High Price',\n",
       "       'High Price', 'High Price', 'High Price', 'High Price',\n",
       "       'Low Price', 'High Price', 'Low Price', 'Low Price', 'High Price',\n",
       "       'High Price', 'High Price', 'High Price', 'High Price',\n",
       "       'High Price', 'High Price', 'High Price', 'High Price',\n",
       "       'High Price', 'High Price', 'High Price', 'High Price',\n",
       "       'High Price', 'High Price', 'High Price', 'High Price',\n",
       "       'High Price', 'Low Price', 'High Price', 'High Price', 'Low Price',\n",
       "       'High Price', 'High Price', 'High Price', 'Low Price', 'Low Price',\n",
       "       'High Price', 'High Price', 'High Price', 'High Price',\n",
       "       'Low Price', 'Low Price', 'High Price', 'High Price', 'High Price',\n",
       "       'High Price', 'Low Price', 'Low Price', 'Low Price', 'High Price',\n",
       "       'High Price', 'High Price', 'High Price', 'High Price',\n",
       "       'High Price', 'High Price', 'High Price', 'High Price',\n",
       "       'High Price', 'High Price', 'Low Price', 'Low Price', 'Low Price',\n",
       "       'High Price', 'High Price', 'High Price', 'High Price',\n",
       "       'High Price', 'High Price', 'High Price', 'High Price',\n",
       "       'High Price', 'High Price', 'High Price', 'High Price',\n",
       "       'Low Price', 'High Price', 'High Price', 'Low Price', 'High Price',\n",
       "       'High Price', 'Low Price', 'High Price', 'High Price',\n",
       "       'High Price', 'High Price', 'High Price', 'Low Price',\n",
       "       'High Price', 'High Price', 'Low Price', 'High Price', 'Low Price',\n",
       "       'High Price', 'High Price', 'High Price', 'Low Price',\n",
       "       'High Price', 'Low Price', 'High Price', 'High Price',\n",
       "       'High Price', 'High Price', 'High Price', 'High Price',\n",
       "       'High Price', 'High Price', 'High Price', 'High Price',\n",
       "       'High Price', 'High Price', 'High Price', 'High Price',\n",
       "       'High Price', 'High Price', 'High Price', 'High Price',\n",
       "       'High Price', 'Low Price', 'High Price', 'High Price',\n",
       "       'High Price', 'Low Price', 'High Price', 'High Price',\n",
       "       'High Price', 'High Price', 'High Price', 'High Price',\n",
       "       'High Price', 'Low Price', 'High Price', 'Low Price', 'High Price',\n",
       "       'High Price', 'High Price', 'High Price', 'High Price',\n",
       "       'High Price', 'High Price', 'Low Price', 'Low Price', 'High Price',\n",
       "       'High Price', 'Low Price', 'High Price', 'Low Price', 'High Price',\n",
       "       'High Price', 'High Price', 'High Price', 'High Price',\n",
       "       'High Price', 'Low Price', 'High Price', 'High Price',\n",
       "       'High Price', 'High Price', 'High Price', 'High Price',\n",
       "       'High Price', 'High Price', 'Low Price', 'High Price',\n",
       "       'High Price', 'Low Price', 'High Price', 'High Price',\n",
       "       'High Price', 'High Price', 'High Price', 'High Price',\n",
       "       'High Price', 'Low Price', 'High Price', 'High Price', 'Low Price',\n",
       "       'Low Price', 'High Price', 'Low Price', 'Low Price', 'High Price',\n",
       "       'Low Price', 'Low Price', 'High Price', 'High Price', 'Low Price',\n",
       "       'Low Price', 'High Price', 'High Price', 'Low Price', 'Low Price',\n",
       "       'High Price', 'High Price'], dtype=object)"
      ]
     },
     "execution_count": 15,
     "metadata": {},
     "output_type": "execute_result"
    }
   ],
   "source": [
    "#Lưu trữ toàn bộ giá trị target của các hàng dữ liệu (trước khi được encode)\n",
    "rdf[class_name].values"
   ]
  },
  {
   "cell_type": "code",
   "execution_count": 16,
   "id": "58a86c28",
   "metadata": {},
   "outputs": [],
   "source": [
    "test_size = 0.20\n",
    "random_state = 0\n",
    "X_train, X_test, Y_train, Y_test = train_test_split(df[feature_names].values, df[class_name].values, \n",
    "                                                    test_size=test_size,\n",
    "                                                    random_state=random_state, \n",
    "                                                    stratify=df[class_name].values)\n",
    "\n",
    "x_train, x_test, y_train, y_test = train_test_split(rdf[real_feature_names].values, rdf[class_name].values, \n",
    "                              test_size=test_size,\n",
    "                              random_state=random_state, \n",
    "                              stratify=df[class_name].values)"
   ]
  },
  {
   "cell_type": "code",
   "execution_count": 17,
   "id": "5e644f2c",
   "metadata": {},
   "outputs": [
    {
     "data": {
      "text/plain": [
       "array([[1971, 73971, 2, ..., 'Disc', 'Disc', 'Petrol'],\n",
       "       [1999, 196051, 6, ..., 'Disc', 'Disc', 'Petrol'],\n",
       "       [1974, 42000, 3, ..., 'Disc', 'Disc', 'Petrol'],\n",
       "       ...,\n",
       "       [1987, 76000, 1, ..., 'Disc', 'Disc', 'Petrol'],\n",
       "       [1988, 95040, 6, ..., 'Disc', 'Disc', 'Petrol'],\n",
       "       [1962, 10046, 2, ..., 'Drum', 'Drum', 'Petrol']], dtype=object)"
      ]
     },
     "execution_count": 17,
     "metadata": {},
     "output_type": "execute_result"
    }
   ],
   "source": [
    "K = x_test\n",
    "K"
   ]
  },
  {
   "cell_type": "markdown",
   "id": "856ef0fb",
   "metadata": {},
   "source": [
    "## Train a black box classifier (Random Forest)"
   ]
  },
  {
   "cell_type": "code",
   "execution_count": 18,
   "id": "1158b487",
   "metadata": {},
   "outputs": [
    {
     "data": {
      "text/html": [
       "<style>#sk-container-id-1 {color: black;}#sk-container-id-1 pre{padding: 0;}#sk-container-id-1 div.sk-toggleable {background-color: white;}#sk-container-id-1 label.sk-toggleable__label {cursor: pointer;display: block;width: 100%;margin-bottom: 0;padding: 0.3em;box-sizing: border-box;text-align: center;}#sk-container-id-1 label.sk-toggleable__label-arrow:before {content: \"▸\";float: left;margin-right: 0.25em;color: #696969;}#sk-container-id-1 label.sk-toggleable__label-arrow:hover:before {color: black;}#sk-container-id-1 div.sk-estimator:hover label.sk-toggleable__label-arrow:before {color: black;}#sk-container-id-1 div.sk-toggleable__content {max-height: 0;max-width: 0;overflow: hidden;text-align: left;background-color: #f0f8ff;}#sk-container-id-1 div.sk-toggleable__content pre {margin: 0.2em;color: black;border-radius: 0.25em;background-color: #f0f8ff;}#sk-container-id-1 input.sk-toggleable__control:checked~div.sk-toggleable__content {max-height: 200px;max-width: 100%;overflow: auto;}#sk-container-id-1 input.sk-toggleable__control:checked~label.sk-toggleable__label-arrow:before {content: \"▾\";}#sk-container-id-1 div.sk-estimator input.sk-toggleable__control:checked~label.sk-toggleable__label {background-color: #d4ebff;}#sk-container-id-1 div.sk-label input.sk-toggleable__control:checked~label.sk-toggleable__label {background-color: #d4ebff;}#sk-container-id-1 input.sk-hidden--visually {border: 0;clip: rect(1px 1px 1px 1px);clip: rect(1px, 1px, 1px, 1px);height: 1px;margin: -1px;overflow: hidden;padding: 0;position: absolute;width: 1px;}#sk-container-id-1 div.sk-estimator {font-family: monospace;background-color: #f0f8ff;border: 1px dotted black;border-radius: 0.25em;box-sizing: border-box;margin-bottom: 0.5em;}#sk-container-id-1 div.sk-estimator:hover {background-color: #d4ebff;}#sk-container-id-1 div.sk-parallel-item::after {content: \"\";width: 100%;border-bottom: 1px solid gray;flex-grow: 1;}#sk-container-id-1 div.sk-label:hover label.sk-toggleable__label {background-color: #d4ebff;}#sk-container-id-1 div.sk-serial::before {content: \"\";position: absolute;border-left: 1px solid gray;box-sizing: border-box;top: 0;bottom: 0;left: 50%;z-index: 0;}#sk-container-id-1 div.sk-serial {display: flex;flex-direction: column;align-items: center;background-color: white;padding-right: 0.2em;padding-left: 0.2em;position: relative;}#sk-container-id-1 div.sk-item {position: relative;z-index: 1;}#sk-container-id-1 div.sk-parallel {display: flex;align-items: stretch;justify-content: center;background-color: white;position: relative;}#sk-container-id-1 div.sk-item::before, #sk-container-id-1 div.sk-parallel-item::before {content: \"\";position: absolute;border-left: 1px solid gray;box-sizing: border-box;top: 0;bottom: 0;left: 50%;z-index: -1;}#sk-container-id-1 div.sk-parallel-item {display: flex;flex-direction: column;z-index: 1;position: relative;background-color: white;}#sk-container-id-1 div.sk-parallel-item:first-child::after {align-self: flex-end;width: 50%;}#sk-container-id-1 div.sk-parallel-item:last-child::after {align-self: flex-start;width: 50%;}#sk-container-id-1 div.sk-parallel-item:only-child::after {width: 0;}#sk-container-id-1 div.sk-dashed-wrapped {border: 1px dashed gray;margin: 0 0.4em 0.5em 0.4em;box-sizing: border-box;padding-bottom: 0.4em;background-color: white;}#sk-container-id-1 div.sk-label label {font-family: monospace;font-weight: bold;display: inline-block;line-height: 1.2em;}#sk-container-id-1 div.sk-label-container {text-align: center;}#sk-container-id-1 div.sk-container {/* jupyter's `normalize.less` sets `[hidden] { display: none; }` but bootstrap.min.css set `[hidden] { display: none !important; }` so we also need the `!important` here to be able to override the default hidden behavior on the sphinx rendered scikit-learn.org. See: https://github.com/scikit-learn/scikit-learn/issues/21755 */display: inline-block !important;position: relative;}#sk-container-id-1 div.sk-text-repr-fallback {display: none;}</style><div id=\"sk-container-id-1\" class=\"sk-top-container\"><div class=\"sk-text-repr-fallback\"><pre>RandomForestClassifier(random_state=0)</pre><b>In a Jupyter environment, please rerun this cell to show the HTML representation or trust the notebook. <br />On GitHub, the HTML representation is unable to render, please try loading this page with nbviewer.org.</b></div><div class=\"sk-container\" hidden><div class=\"sk-item\"><div class=\"sk-estimator sk-toggleable\"><input class=\"sk-toggleable__control sk-hidden--visually\" id=\"sk-estimator-id-1\" type=\"checkbox\" checked><label for=\"sk-estimator-id-1\" class=\"sk-toggleable__label sk-toggleable__label-arrow\">RandomForestClassifier</label><div class=\"sk-toggleable__content\"><pre>RandomForestClassifier(random_state=0)</pre></div></div></div></div></div>"
      ],
      "text/plain": [
       "RandomForestClassifier(random_state=0)"
      ]
     },
     "execution_count": 18,
     "metadata": {},
     "output_type": "execute_result"
    }
   ],
   "source": [
    "bb = RandomForestClassifier(n_estimators=100, random_state=random_state)\n",
    "bb.fit(X_train, Y_train)"
   ]
  },
  {
   "cell_type": "code",
   "execution_count": 19,
   "id": "68750f6a",
   "metadata": {},
   "outputs": [],
   "source": [
    "def bb_predict(X):\n",
    "    return bb.predict(X)\n",
    "\n",
    "def bb_predict_proba(X):\n",
    "    return bb.predict_proba(X)"
   ]
  },
  {
   "cell_type": "code",
   "execution_count": 20,
   "id": "a5b8dd64",
   "metadata": {},
   "outputs": [
    {
     "name": "stdout",
     "output_type": "stream",
     "text": [
      "Accuracy 0.820\n",
      "F1-measure 0.675\n"
     ]
    }
   ],
   "source": [
    "Y_pred = bb_predict(X_test)\n",
    "\n",
    "print('Accuracy %.3f' % accuracy_score(Y_test, Y_pred))\n",
    "print('F1-measure %.3f' % f1_score(Y_test, Y_pred))"
   ]
  },
  {
   "cell_type": "code",
   "execution_count": 21,
   "id": "7eccfdbd",
   "metadata": {},
   "outputs": [
    {
     "name": "stdout",
     "output_type": "stream",
     "text": [
      "Low Price 1 1\n"
     ]
    }
   ],
   "source": [
    "print(y_test[82], Y_test[82], Y_pred[82])"
   ]
  },
  {
   "cell_type": "code",
   "execution_count": 22,
   "id": "43d5b220",
   "metadata": {},
   "outputs": [
    {
     "name": "stdout",
     "output_type": "stream",
     "text": [
      "High Price 0 0\n"
     ]
    }
   ],
   "source": [
    "print(y_test[0],Y_test[0], Y_pred[0])"
   ]
  },
  {
   "cell_type": "markdown",
   "id": "10b21aa6",
   "metadata": {},
   "source": [
    "## Select an record to explain"
   ]
  },
  {
   "cell_type": "code",
   "execution_count": 23,
   "id": "bc347414",
   "metadata": {},
   "outputs": [],
   "source": [
    "import random"
   ]
  },
  {
   "cell_type": "code",
   "execution_count": 24,
   "id": "12c77a63",
   "metadata": {},
   "outputs": [
    {
     "name": "stdout",
     "output_type": "stream",
     "text": [
      "x = { Year of manufacture = 1969, Kilometer = 55303, Previous owners = 1, Horsepower = 18, Cubic capacity (ccm) = 499, Cylinders = 2, Doors = 2, Gears = 4, Steering = Left (LHD), Gearbox = Manual, Transmission = Rear, Front breaks = Drum, Rear breaks = Drum, Fuel type = Petrol }\n",
      "\n"
     ]
    }
   ],
   "source": [
    "i2e = np.random.randint(0,len(X_test))\n",
    "x = X_test[i2e]\n",
    "\n",
    "print('x = %s' % record2str(x, feature_names, numeric_columns))\n",
    "print('')"
   ]
  },
  {
   "cell_type": "code",
   "execution_count": 25,
   "id": "e98f5119",
   "metadata": {},
   "outputs": [
    {
     "data": {
      "text/plain": [
       "98"
      ]
     },
     "execution_count": 25,
     "metadata": {},
     "output_type": "execute_result"
    }
   ],
   "source": [
    "i2e"
   ]
  },
  {
   "cell_type": "code",
   "execution_count": 26,
   "id": "eec3bfff",
   "metadata": {},
   "outputs": [
    {
     "data": {
      "text/plain": [
       "array([1969, 55303, 1, 18, 499, 2, 2, 4, True, False, False, True, False,\n",
       "       False, False, True, False, True, False, True, False, True],\n",
       "      dtype=object)"
      ]
     },
     "execution_count": 26,
     "metadata": {},
     "output_type": "execute_result"
    }
   ],
   "source": [
    "X_test[i2e]"
   ]
  },
  {
   "cell_type": "code",
   "execution_count": 27,
   "id": "0f5c15a1",
   "metadata": {},
   "outputs": [
    {
     "data": {
      "text/plain": [
       "1"
      ]
     },
     "execution_count": 27,
     "metadata": {},
     "output_type": "execute_result"
    }
   ],
   "source": [
    "Y_pred[i2e]"
   ]
  },
  {
   "cell_type": "code",
   "execution_count": 28,
   "id": "330fc589",
   "metadata": {},
   "outputs": [
    {
     "data": {
      "text/plain": [
       "'Low Price'"
      ]
     },
     "execution_count": 28,
     "metadata": {},
     "output_type": "execute_result"
    }
   ],
   "source": [
    "y_test[i2e]"
   ]
  },
  {
   "cell_type": "markdown",
   "id": "f25e4acf",
   "metadata": {},
   "source": [
    "# LORE"
   ]
  },
  {
   "cell_type": "code",
   "execution_count": 29,
   "id": "6422926d",
   "metadata": {},
   "outputs": [],
   "source": [
    "sys.path.append('./lore/')"
   ]
  },
  {
   "cell_type": "code",
   "execution_count": 30,
   "id": "82e6ad48",
   "metadata": {},
   "outputs": [],
   "source": [
    "import numpy as np\n",
    "\n",
    "import itertools\n",
    "from functools import partial\n",
    "\n",
    "from scipy.spatial.distance import cdist\n",
    "\n",
    "from sklearn.dummy import DummyClassifier\n",
    "from sklearn.metrics import accuracy_score\n",
    "\n",
    "from rule import Rule, compact_premises\n",
    "\n",
    "from explanation import Explanation, MultilabelExplanation\n",
    "from decision_tree import learn_local_decision_tree\n",
    "from neighgen import RandomGenerator, GeneticGenerator, RandomGeneticGenerator, ClosestInstancesGenerator\n",
    "from neighgen import GeneticProbaGenerator, RandomGeneticProbaGenerator\n",
    "from rule import get_rule, get_counterfactual_rules\n",
    "from util import calculate_feature_values, neuclidean, multilabel2str, multi_dt_predict\n",
    "\n",
    "\n",
    "def default_kernel(d, kernel_width):\n",
    "    return np.sqrt(np.exp(-(d ** 2) / kernel_width ** 2))\n",
    "\n",
    "\n",
    "# LOcal Rule-based Explanation Method\n",
    "class LOREM(object):\n",
    "\n",
    "    def __init__(self, K, bb_predict, feature_names, class_name, class_values, numeric_columns, features_map,\n",
    "                 neigh_type='genetic', categorical_use_prob=True, continuous_fun_estimation=False,\n",
    "                 size=1000, ocr=0.1, multi_label=False, one_vs_rest=False, filter_crules=True, init_ngb_fn=True,\n",
    "                 kernel_width=None, kernel=None, random_state=None, verbose=False, **kwargs):\n",
    "\n",
    "        self.random_state = random_state\n",
    "        self.bb_predict = bb_predict\n",
    "        self.K = K\n",
    "        self.class_name = class_name\n",
    "        self.feature_names = feature_names\n",
    "        self.class_values = class_values\n",
    "        self.numeric_columns = numeric_columns\n",
    "        self.features_map = features_map\n",
    "        self.neigh_type = neigh_type\n",
    "        self.multi_label = multi_label\n",
    "        self.one_vs_rest = one_vs_rest\n",
    "        self.filter_crules = self.bb_predict if filter_crules else None\n",
    "        self.verbose = verbose\n",
    "\n",
    "        self.features_map_inv = None\n",
    "        if self.features_map:\n",
    "            self.features_map_inv = dict()\n",
    "            for idx, idx_dict in self.features_map.items():\n",
    "                for k, v in idx_dict.items():\n",
    "                    self.features_map_inv[v] = idx\n",
    "        #Lấy ra cặp chỉ số của sample trong features_map và lưu đảo ngược lại.\n",
    "        #Khởi tạo Kernal_width\n",
    "        kernel_width = np.sqrt(len(self.feature_names)) * .75 if kernel_width is None else kernel_width\n",
    "        self.kernel_width = float(kernel_width)\n",
    "\n",
    "        kernel = default_kernel if kernel is None else kernel\n",
    "        self.kernel = partial(kernel, kernel_width=kernel_width)\n",
    "\n",
    "        np.random.seed(self.random_state)\n",
    "\n",
    "        if init_ngb_fn:\n",
    "            self.__init_neighbor_fn(ocr, categorical_use_prob, continuous_fun_estimation, \n",
    "                                    size, kwargs)\n",
    "\n",
    "    def explain_instance(self, x, samples=1000, use_weights=True, metric=neuclidean):\n",
    "\n",
    "        if isinstance(samples, int):\n",
    "            if self.verbose:\n",
    "                print('generating neighborhood - %s' % self.neigh_type)\n",
    "            Z = self.neighgen_fn(x, samples)\n",
    "        else:\n",
    "            Z = samples\n",
    "\n",
    "        Yb = self.bb_predict(Z)\n",
    "        if self.multi_label:\n",
    "            Z = np.array([z for z, y in zip(Z, Yb) if np.sum(y) > 0])\n",
    "            Yb = self.bb_predict(Z)\n",
    "\n",
    "        if self.verbose:\n",
    "            if not self.multi_label:\n",
    "                neigh_class, neigh_counts = np.unique(Yb, return_counts=True)\n",
    "                neigh_class_counts = {self.class_values[k]: v for k, v in zip(neigh_class, neigh_counts)}\n",
    "            else:\n",
    "                neigh_counts = np.sum(Yb, axis=0)\n",
    "                neigh_class_counts = {self.class_values[k]: v for k, v in enumerate(neigh_counts)}\n",
    "\n",
    "            print('synthetic neighborhood class counts %s' % neigh_class_counts)\n",
    "\n",
    "        weights = None if not use_weights else self.__calculate_weights__(Z, metric)\n",
    "\n",
    "        if self.one_vs_rest and self.multi_label:\n",
    "            exp = self.__explain_tabular_instance_multiple_tree(x, Z, Yb, weights)\n",
    "        else:  # binary, multiclass, multilabel all together\n",
    "            exp = self.__explain_tabular_instance_single_tree(x, Z, Yb, weights)\n",
    "\n",
    "        return exp\n",
    "\n",
    "    def __calculate_weights__(self, Z, metric):\n",
    "        if np.max(Z) != 1 and np.min(Z) != 0:\n",
    "            Zn = (Z - np.min(Z)) / (np.max(Z) - np.min(Z))\n",
    "            distances = cdist(Zn, Zn[0].reshape(1, -1), metric=metric).ravel()\n",
    "        else:\n",
    "            distances = cdist(Z, Z[0].reshape(1, -1), metric=metric).ravel()\n",
    "        weights = self.kernel(distances)\n",
    "        return weights\n",
    "\n",
    "    def __explain_tabular_instance_single_tree(self, x, Z, Yb, weights):\n",
    "\n",
    "        if self.verbose:\n",
    "            print('learning local decision tree')\n",
    "\n",
    "        idx_train = len(Z) - int(len(Z) * 0.05)\n",
    "        dt = learn_local_decision_tree(Z[:idx_train], Yb[:idx_train], weights[:idx_train], self.class_values, self.multi_label, self.one_vs_rest,\n",
    "                                       prune_tree=False)\n",
    "        Yc = dt.predict(Z)\n",
    "\n",
    "        fidelity = dt.score(Z, Yb, sample_weight=weights)\n",
    "\n",
    "        if self.verbose:\n",
    "            print('retrieving explanation')\n",
    "\n",
    "        rule = get_rule(x, dt, self.feature_names, self.class_name, self.class_values, self.numeric_columns,\n",
    "                        self.multi_label)\n",
    "        crules, deltas = get_counterfactual_rules(x, Yc[0], dt, Z, Yc, self.feature_names, self.class_name,\n",
    "                                                  self.class_values, self.numeric_columns, self.features_map,\n",
    "                                                  self.features_map_inv, self.filter_crules, self.multi_label)\n",
    "\n",
    "        exp = Explanation()\n",
    "        exp.bb_pred = Yb[0]\n",
    "        exp.dt_pred = Yc[0]\n",
    "        exp.rule = rule\n",
    "        exp.crules = crules\n",
    "        exp.deltas = deltas\n",
    "        exp.dt = dt\n",
    "        exp.fidelity = fidelity\n",
    "\n",
    "        return exp\n",
    "\n",
    "    def __explain_tabular_instance_multiple_tree(self, x, Z, Yb, weights):\n",
    "\n",
    "        dt_list = list()\n",
    "        premises = list()\n",
    "        rule_list = list()\n",
    "        crules_list = list()\n",
    "        deltas_list = list()\n",
    "        nbr_labels = len(self.class_name)\n",
    "\n",
    "        if self.verbose:\n",
    "            print('learning %s local decision trees' % nbr_labels)\n",
    "\n",
    "        for l in range(nbr_labels):\n",
    "            if np.sum(Yb[:, l]) == 0 or np.sum(Yb[:, l]) == len(Yb):\n",
    "                outcome = 0 if np.sum(Yb[:, l]) == 0 else 1\n",
    "                rule = Rule([], outcome, [0, 1])\n",
    "                crules, deltas = list(), list()\n",
    "                dt = DummyClassifier()\n",
    "                dt.fit(np.zeros(Z.shape[1]).reshape(1, -1), np.array([outcome]))\n",
    "            else:\n",
    "                idx_train = len(Z) - int(len(Z) * 0.05)\n",
    "                dt = learn_local_decision_tree(Z[:idx_train], Yb[:idx_train, l], weights[:idx_train], self.class_values, self.multi_label,\n",
    "                                               self.one_vs_rest, prune_tree=False)\n",
    "                Yc = dt.predict(Z)\n",
    "                class_values = [0, 1]\n",
    "                rule = get_rule(x, dt, self.feature_names, self.class_name[l], class_values, self.numeric_columns,\n",
    "                                multi_label=False)\n",
    "                crules, deltas = get_counterfactual_rules(x, Yc[0], dt, Z, Yc, self.feature_names,\n",
    "                                                          self.class_name[l], class_values, self.numeric_columns,\n",
    "                                                          self.features_map, self.features_map_inv,\n",
    "                                                          self.filter_crules, multi_label=False)\n",
    "\n",
    "            dt_list.append(dt)\n",
    "            rule_list.append(rule)\n",
    "            premises.extend(rule.premises)\n",
    "            crules_list.append(crules)\n",
    "            deltas_list.append(deltas)\n",
    "\n",
    "        if self.verbose:\n",
    "            print('retrieving explanation')\n",
    "\n",
    "        Yc = multi_dt_predict(Z, dt_list)\n",
    "        fidelity = accuracy_score(Yb, Yc, sample_weight=weights)\n",
    "\n",
    "        premises = compact_premises(premises)\n",
    "        dt_outcome = multi_dt_predict(x.reshape(1, -1), dt_list)[0]\n",
    "        cons = multilabel2str(dt_outcome, self.class_values)\n",
    "        rule = Rule(premises, cons, self.class_name)\n",
    "\n",
    "        exp = MultilabelExplanation()\n",
    "        exp.bb_pred = Yb[0]\n",
    "        exp.dt_pred = Yc[0]\n",
    "        exp.rule = rule\n",
    "        exp.crules = list(itertools.chain.from_iterable(crules_list))\n",
    "        exp.deltas = list(itertools.chain.from_iterable(deltas_list))\n",
    "        exp.dt = dt_list\n",
    "        exp.fidelity = fidelity\n",
    "\n",
    "        exp.rule_list = rule_list\n",
    "        exp.crules_list = crules_list\n",
    "        exp.deltas_list = deltas_list\n",
    "\n",
    "        return exp\n",
    "\n",
    "    def __init_neighbor_fn(self, ocr, categorical_use_prob, continuous_fun_estimation, size, kwargs):\n",
    "\n",
    "        neighgen = None\n",
    "        #Lấy index của những cột có giá trị là numeric trong feature_names\n",
    "        numeric_columns_index = [i for i, c in enumerate(self.feature_names) if c in self.numeric_columns]\n",
    "\n",
    "        self.feature_values = None\n",
    "        if self.neigh_type in ['random', 'genetic', 'rndgen', 'geneticp', 'rndgenp']:\n",
    "            if self.verbose:\n",
    "                print('calculating feature values')\n",
    "\n",
    "            self.feature_values = calculate_feature_values(self.K, numeric_columns_index,\n",
    "                                                           categorical_use_prob=categorical_use_prob,\n",
    "                                                           continuous_fun_estimation=continuous_fun_estimation,\n",
    "                                                           size=size)\n",
    "\n",
    "        nbr_features = len(self.feature_names)\n",
    "        nbr_real_features = self.K.shape[1]\n",
    "\n",
    "        if self.neigh_type in ['genetic', 'rndgen', 'geneticp', 'rndgenp']:\n",
    "            alpha1 = kwargs.get('alpha1', 0.5)\n",
    "            alpha2 = kwargs.get('alpha2', 0.5)\n",
    "            metric = kwargs.get('metric', neuclidean)\n",
    "            ngen = kwargs.get('ngen', 10)\n",
    "            mutpb = kwargs.get('mutpb', 0.5)\n",
    "            cxpb = kwargs.get('cxpb', 0.7)\n",
    "            tournsize = kwargs.get('tournsize', 3)\n",
    "            halloffame_ratio = kwargs.get('halloffame_ratio', 0.1)\n",
    "            random_seed = self.random_state\n",
    "\n",
    "            if self.neigh_type == 'genetic':\n",
    "                neighgen = GeneticGenerator(self.bb_predict, self.feature_values, self.features_map, nbr_features,\n",
    "                                            nbr_real_features, numeric_columns_index, ocr=ocr, alpha1=alpha1,\n",
    "                                            alpha2=alpha2, metric=metric, ngen=ngen,\n",
    "                                            mutpb=mutpb, cxpb=cxpb, tournsize=tournsize,\n",
    "                                            halloffame_ratio=halloffame_ratio, random_seed=random_seed,\n",
    "                                            verbose=self.verbose)\n",
    "            elif self.neigh_type == 'rndgen':\n",
    "                neighgen = RandomGeneticGenerator(self.bb_predict, self.feature_values, self.features_map,\n",
    "                                                  nbr_features, nbr_real_features, numeric_columns_index,\n",
    "                                                  ocr=ocr, alpha1=alpha1, alpha2=alpha2,\n",
    "                                                  metric=metric, ngen=ngen, mutpb=mutpb, cxpb=cxpb,\n",
    "                                                  tournsize=tournsize, halloffame_ratio=halloffame_ratio,\n",
    "                                                  random_seed=random_seed, verbose=self.verbose)\n",
    "            elif self.neigh_type == 'geneticp':\n",
    "                bb_predict_proba = kwargs.get('bb_predict_proba', None)\n",
    "                neighgen = GeneticProbaGenerator(self.bb_predict, self.feature_values, self.features_map, nbr_features,\n",
    "                                                 nbr_real_features, numeric_columns_index, ocr=ocr, alpha1=alpha1,\n",
    "                                                 alpha2=alpha2, metric=metric, ngen=ngen,\n",
    "                                                 mutpb=mutpb, cxpb=cxpb, tournsize=tournsize,\n",
    "                                                 halloffame_ratio=halloffame_ratio,\n",
    "                                                 bb_predict_proba=bb_predict_proba,\n",
    "                                                 random_seed=random_seed,\n",
    "                                                 verbose=self.verbose)\n",
    "\n",
    "            elif self.neigh_type == 'rndgenp':\n",
    "                bb_predict_proba = kwargs.get('bb_predict_proba', None)\n",
    "                neighgen = RandomGeneticProbaGenerator(self.bb_predict, self.feature_values, self.features_map,\n",
    "                                                       nbr_features, nbr_real_features, numeric_columns_index,\n",
    "                                                       ocr=ocr, alpha1=alpha1, alpha2=alpha2,\n",
    "                                                       metric=metric, ngen=ngen, mutpb=mutpb, cxpb=cxpb,\n",
    "                                                       tournsize=tournsize, halloffame_ratio=halloffame_ratio,\n",
    "                                                       bb_predict_proba=bb_predict_proba,\n",
    "                                                       random_seed=random_seed, verbose=self.verbose)\n",
    "\n",
    "        elif self.neigh_type == 'random':\n",
    "            neighgen = RandomGenerator(self.bb_predict, self.feature_values, self.features_map, nbr_features,\n",
    "                                       nbr_real_features, numeric_columns_index, ocr=ocr)\n",
    "        elif self.neigh_type == 'closest':\n",
    "            Kc = kwargs.get('Kc', None)\n",
    "            k = kwargs.get('k', None)\n",
    "            type = kwargs.get('core_neigh_type', 'simple')\n",
    "            alphaf = kwargs.get('alphaf', 0.5)\n",
    "            alphal = kwargs.get('alphal', 0.5)\n",
    "            metric_features = kwargs.get('metric_features', neuclidean)\n",
    "            metric_labels = kwargs.get('metric_labels', neuclidean)\n",
    "            neighgen = ClosestInstancesGenerator(self.bb_predict, self.feature_values, self.features_map, nbr_features,\n",
    "                                                 nbr_real_features, numeric_columns_index, ocr=ocr,\n",
    "                                                 K=Kc, rK=self.K, k=k, core_neigh_type=type, alphaf=alphaf,\n",
    "                                                 alphal=alphal, metric_features=metric_features,\n",
    "                                                 metric_labels=metric_labels, categorical_use_prob=categorical_use_prob,\n",
    "                                                 continuous_fun_estimation=continuous_fun_estimation, size=size,\n",
    "                                                 verbose=self.verbose)\n",
    "        else:\n",
    "            print('unknown neighborhood generator')\n",
    "            raise Exception\n",
    "\n",
    "        self.neighgen_fn = neighgen.generate"
   ]
  },
  {
   "cell_type": "code",
   "execution_count": 31,
   "id": "ac2e0323",
   "metadata": {},
   "outputs": [
    {
     "name": "stdout",
     "output_type": "stream",
     "text": [
      "calculating feature values\n"
     ]
    }
   ],
   "source": [
    "lore_explainer = LOREM(K, bb_predict, feature_names, class_name, class_values, numeric_columns, features_map,\n",
    "                       neigh_type='geneticp', categorical_use_prob=True, continuous_fun_estimation=False, \n",
    "                       size=1000, ocr=0.1, random_state=random_state, ngen=10, bb_predict_proba=bb_predict_proba, \n",
    "                       verbose=True)"
   ]
  },
  {
   "cell_type": "code",
   "execution_count": 32,
   "id": "83f2acbc",
   "metadata": {},
   "outputs": [
    {
     "name": "stdout",
     "output_type": "stream",
     "text": [
      "generating neighborhood - geneticp\n",
      "gen\tnevals\tavg     \tmin     \tmax     \n",
      "0  \t250   \t0.496654\t0.496654\t0.496654\n",
      "1  \t211   \t0.66697 \t0.0294829\t0.993276\n",
      "2  \t215   \t0.822577\t0.09215  \t0.993307\n",
      "3  \t205   \t0.87719 \t0.0461333\t0.993307\n",
      "4  \t208   \t0.891243\t0.0527394\t0.993307\n",
      "5  \t219   \t0.900892\t0.411892 \t0.993307\n",
      "6  \t214   \t0.894238\t0.247616 \t0.993307\n",
      "7  \t210   \t0.901462\t0.0331902\t0.993307\n",
      "8  \t217   \t0.882259\t0.0536189\t0.993307\n",
      "9  \t220   \t0.896061\t0.120369 \t0.993307\n",
      "10 \t220   \t0.898801\t0.0417277\t0.993307\n",
      "gen\tnevals\tavg\tmin\tmax\n",
      "0  \t250   \t0.5\t0.5\t0.5\n",
      "1  \t230   \t0.571183\t0.0917111\t0.987006\n",
      "2  \t196   \t0.706548\t0.149846 \t0.987006\n",
      "3  \t215   \t0.825921\t0.27878  \t0.989733\n",
      "4  \t203   \t0.905684\t0.360642 \t0.990619\n",
      "5  \t214   \t0.928407\t0.490313 \t0.990911\n",
      "6  \t206   \t0.927701\t0.480039 \t0.990911\n",
      "7  \t225   \t0.931023\t0.425994 \t0.990911\n",
      "8  \t200   \t0.934895\t0.399679 \t0.990911\n",
      "9  \t223   \t0.934496\t0.479345 \t0.990911\n",
      "10 \t207   \t0.939436\t0.48251  \t0.991037\n",
      "synthetic neighborhood class counts {'High Price': 397, 'Low Price': 203}\n",
      "learning local decision tree\n",
      "retrieving explanation\n"
     ]
    }
   ],
   "source": [
    "exp = lore_explainer.explain_instance(x, samples=500, use_weights=True, metric=nmeandev)"
   ]
  },
  {
   "cell_type": "code",
   "execution_count": 33,
   "id": "b9e41377",
   "metadata": {},
   "outputs": [
    {
     "name": "stdout",
     "output_type": "stream",
     "text": [
      "r = { Horsepower <= 50.50, Cubic capacity (ccm) <= 1689.00, Cylinders <= 5.50 } --> { class: Low Price }\n",
      "c = { { Cubic capacity (ccm) > 1689.00, Cylinders > 5.50 } }\n"
     ]
    }
   ],
   "source": [
    "print(exp)"
   ]
  },
  {
   "cell_type": "code",
   "execution_count": 34,
   "id": "b997f897",
   "metadata": {},
   "outputs": [
    {
     "data": {
      "text/plain": [
       "1"
      ]
     },
     "execution_count": 34,
     "metadata": {},
     "output_type": "execute_result"
    }
   ],
   "source": [
    "Y_pred[i2e]"
   ]
  },
  {
   "cell_type": "code",
   "execution_count": 35,
   "id": "bf35bd1c",
   "metadata": {},
   "outputs": [
    {
     "data": {
      "text/plain": [
       "'Drum'"
      ]
     },
     "execution_count": 35,
     "metadata": {},
     "output_type": "execute_result"
    }
   ],
   "source": [
    "x_test[i2e][11]"
   ]
  },
  {
   "cell_type": "code",
   "execution_count": 36,
   "id": "cb458de5",
   "metadata": {},
   "outputs": [],
   "source": [
    "x1 = x.copy()\n"
   ]
  },
  {
   "cell_type": "code",
   "execution_count": 37,
   "id": "fe8b1dbe",
   "metadata": {},
   "outputs": [],
   "source": [
    "x1 = x1.reshape(1,-1)"
   ]
  },
  {
   "cell_type": "code",
   "execution_count": 38,
   "id": "28afd10d",
   "metadata": {},
   "outputs": [
    {
     "data": {
      "text/plain": [
       "array([[1969, 55303, 1, 18, 499, 2, 2, 4, True, False, False, True,\n",
       "        False, False, False, True, False, True, False, True, False, True]],\n",
       "      dtype=object)"
      ]
     },
     "execution_count": 38,
     "metadata": {},
     "output_type": "execute_result"
    }
   ],
   "source": [
    "x1"
   ]
  },
  {
   "cell_type": "code",
   "execution_count": 39,
   "id": "0da87a90",
   "metadata": {},
   "outputs": [],
   "source": [
    "Y_pred = bb_predict(x1)\n"
   ]
  },
  {
   "cell_type": "code",
   "execution_count": 40,
   "id": "abe3ec11",
   "metadata": {},
   "outputs": [
    {
     "data": {
      "text/plain": [
       "array([1], dtype=int64)"
      ]
     },
     "execution_count": 40,
     "metadata": {},
     "output_type": "execute_result"
    }
   ],
   "source": [
    "Y_pred"
   ]
  },
  {
   "cell_type": "markdown",
   "id": "04596419",
   "metadata": {},
   "source": [
    "## Train a black box classifier (Multi-layer Perceptron)"
   ]
  },
  {
   "cell_type": "code",
   "execution_count": 55,
   "id": "56a3e8c9",
   "metadata": {},
   "outputs": [
    {
     "data": {
      "text/html": [
       "<style>#sk-container-id-3 {color: black;}#sk-container-id-3 pre{padding: 0;}#sk-container-id-3 div.sk-toggleable {background-color: white;}#sk-container-id-3 label.sk-toggleable__label {cursor: pointer;display: block;width: 100%;margin-bottom: 0;padding: 0.3em;box-sizing: border-box;text-align: center;}#sk-container-id-3 label.sk-toggleable__label-arrow:before {content: \"▸\";float: left;margin-right: 0.25em;color: #696969;}#sk-container-id-3 label.sk-toggleable__label-arrow:hover:before {color: black;}#sk-container-id-3 div.sk-estimator:hover label.sk-toggleable__label-arrow:before {color: black;}#sk-container-id-3 div.sk-toggleable__content {max-height: 0;max-width: 0;overflow: hidden;text-align: left;background-color: #f0f8ff;}#sk-container-id-3 div.sk-toggleable__content pre {margin: 0.2em;color: black;border-radius: 0.25em;background-color: #f0f8ff;}#sk-container-id-3 input.sk-toggleable__control:checked~div.sk-toggleable__content {max-height: 200px;max-width: 100%;overflow: auto;}#sk-container-id-3 input.sk-toggleable__control:checked~label.sk-toggleable__label-arrow:before {content: \"▾\";}#sk-container-id-3 div.sk-estimator input.sk-toggleable__control:checked~label.sk-toggleable__label {background-color: #d4ebff;}#sk-container-id-3 div.sk-label input.sk-toggleable__control:checked~label.sk-toggleable__label {background-color: #d4ebff;}#sk-container-id-3 input.sk-hidden--visually {border: 0;clip: rect(1px 1px 1px 1px);clip: rect(1px, 1px, 1px, 1px);height: 1px;margin: -1px;overflow: hidden;padding: 0;position: absolute;width: 1px;}#sk-container-id-3 div.sk-estimator {font-family: monospace;background-color: #f0f8ff;border: 1px dotted black;border-radius: 0.25em;box-sizing: border-box;margin-bottom: 0.5em;}#sk-container-id-3 div.sk-estimator:hover {background-color: #d4ebff;}#sk-container-id-3 div.sk-parallel-item::after {content: \"\";width: 100%;border-bottom: 1px solid gray;flex-grow: 1;}#sk-container-id-3 div.sk-label:hover label.sk-toggleable__label {background-color: #d4ebff;}#sk-container-id-3 div.sk-serial::before {content: \"\";position: absolute;border-left: 1px solid gray;box-sizing: border-box;top: 0;bottom: 0;left: 50%;z-index: 0;}#sk-container-id-3 div.sk-serial {display: flex;flex-direction: column;align-items: center;background-color: white;padding-right: 0.2em;padding-left: 0.2em;position: relative;}#sk-container-id-3 div.sk-item {position: relative;z-index: 1;}#sk-container-id-3 div.sk-parallel {display: flex;align-items: stretch;justify-content: center;background-color: white;position: relative;}#sk-container-id-3 div.sk-item::before, #sk-container-id-3 div.sk-parallel-item::before {content: \"\";position: absolute;border-left: 1px solid gray;box-sizing: border-box;top: 0;bottom: 0;left: 50%;z-index: -1;}#sk-container-id-3 div.sk-parallel-item {display: flex;flex-direction: column;z-index: 1;position: relative;background-color: white;}#sk-container-id-3 div.sk-parallel-item:first-child::after {align-self: flex-end;width: 50%;}#sk-container-id-3 div.sk-parallel-item:last-child::after {align-self: flex-start;width: 50%;}#sk-container-id-3 div.sk-parallel-item:only-child::after {width: 0;}#sk-container-id-3 div.sk-dashed-wrapped {border: 1px dashed gray;margin: 0 0.4em 0.5em 0.4em;box-sizing: border-box;padding-bottom: 0.4em;background-color: white;}#sk-container-id-3 div.sk-label label {font-family: monospace;font-weight: bold;display: inline-block;line-height: 1.2em;}#sk-container-id-3 div.sk-label-container {text-align: center;}#sk-container-id-3 div.sk-container {/* jupyter's `normalize.less` sets `[hidden] { display: none; }` but bootstrap.min.css set `[hidden] { display: none !important; }` so we also need the `!important` here to be able to override the default hidden behavior on the sphinx rendered scikit-learn.org. See: https://github.com/scikit-learn/scikit-learn/issues/21755 */display: inline-block !important;position: relative;}#sk-container-id-3 div.sk-text-repr-fallback {display: none;}</style><div id=\"sk-container-id-3\" class=\"sk-top-container\"><div class=\"sk-text-repr-fallback\"><pre>MLPClassifier(random_state=0)</pre><b>In a Jupyter environment, please rerun this cell to show the HTML representation or trust the notebook. <br />On GitHub, the HTML representation is unable to render, please try loading this page with nbviewer.org.</b></div><div class=\"sk-container\" hidden><div class=\"sk-item\"><div class=\"sk-estimator sk-toggleable\"><input class=\"sk-toggleable__control sk-hidden--visually\" id=\"sk-estimator-id-3\" type=\"checkbox\" checked><label for=\"sk-estimator-id-3\" class=\"sk-toggleable__label sk-toggleable__label-arrow\">MLPClassifier</label><div class=\"sk-toggleable__content\"><pre>MLPClassifier(random_state=0)</pre></div></div></div></div></div>"
      ],
      "text/plain": [
       "MLPClassifier(random_state=0)"
      ]
     },
     "execution_count": 55,
     "metadata": {},
     "output_type": "execute_result"
    }
   ],
   "source": [
    "bb1 = MLPClassifier(random_state=100)\n",
    "bb1.fit(X_train, Y_train)"
   ]
  },
  {
   "cell_type": "code",
   "execution_count": 56,
   "id": "44c0c77c",
   "metadata": {},
   "outputs": [],
   "source": [
    "def bb1_predict(X):\n",
    "    return bb1.predict(X)\n",
    "\n",
    "def bb1_predict_proba(X):\n",
    "    return bb1.predict_proba(X)"
   ]
  },
  {
   "cell_type": "code",
   "execution_count": 57,
   "id": "909ffa0f",
   "metadata": {},
   "outputs": [
    {
     "name": "stdout",
     "output_type": "stream",
     "text": [
      "Accuracy 0.683\n",
      "F1-measure 0.000\n"
     ]
    }
   ],
   "source": [
    "Y_pred_1 = bb1_predict(X_test)\n",
    "\n",
    "print('Accuracy %.3f' % accuracy_score(Y_test, Y_pred_1))\n",
    "print('F1-measure %.3f' % f1_score(Y_test, Y_pred_1))"
   ]
  },
  {
   "cell_type": "code",
   "execution_count": 58,
   "id": "41a1f4de",
   "metadata": {},
   "outputs": [
    {
     "name": "stdout",
     "output_type": "stream",
     "text": [
      "Low Price 1 0\n"
     ]
    }
   ],
   "source": [
    "print(y_test[82], Y_test[82], Y_pred_1[82])"
   ]
  },
  {
   "cell_type": "code",
   "execution_count": 59,
   "id": "099e03a3",
   "metadata": {},
   "outputs": [
    {
     "name": "stdout",
     "output_type": "stream",
     "text": [
      "High Price 0 0\n"
     ]
    }
   ],
   "source": [
    "print(y_test[0],Y_test[0], Y_pred_1[0])"
   ]
  },
  {
   "cell_type": "markdown",
   "id": "a3f9ef59",
   "metadata": {},
   "source": [
    "## Select an record to explain"
   ]
  },
  {
   "cell_type": "code",
   "execution_count": 60,
   "id": "9a2691f8",
   "metadata": {},
   "outputs": [
    {
     "name": "stdout",
     "output_type": "stream",
     "text": [
      "calculating feature values\n"
     ]
    }
   ],
   "source": [
    "lore_explainer_1 = LOREM(K, bb1_predict, feature_names, class_name, class_values, numeric_columns, features_map,\n",
    "                       neigh_type='geneticp', categorical_use_prob=True, continuous_fun_estimation=False, \n",
    "                       size=1000, ocr=0.1, random_state=random_state, ngen=10, bb_predict_proba=bb1_predict_proba, \n",
    "                       verbose=True)"
   ]
  },
  {
   "cell_type": "code",
   "execution_count": 47,
   "id": "fafe1014",
   "metadata": {},
   "outputs": [
    {
     "name": "stdout",
     "output_type": "stream",
     "text": [
      "generating neighborhood - geneticp\n",
      "gen\tnevals\tavg     \tmin     \tmax     \n",
      "0  \t250   \t0.496654\t0.496654\t0.496654\n",
      "1  \t211   \t0.742202\t0.496654\t0.993307\n",
      "2  \t215   \t0.958951\t0.496654\t0.993307\n",
      "3  \t205   \t0.979638\t0.503506\t0.993307\n",
      "4  \t208   \t0.982805\t0.500363\t0.993307\n",
      "5  \t219   \t0.983226\t0.496654\t0.993307\n",
      "6  \t214   \t0.978055\t0.500049\t0.993307\n",
      "7  \t210   \t0.986649\t0.508514\t0.993307\n",
      "8  \t217   \t0.970974\t0.496654\t0.993307\n",
      "9  \t220   \t0.97911 \t0.500046\t0.993307\n",
      "10 \t220   \t0.976246\t0.496654\t0.993307\n",
      "gen\tnevals\tavg\tmin\tmax\n",
      "0  \t250   \t0.5\t0.5\t0.5\n",
      "1  \t230   \t0.492266\t0.0100723\t0.5\n",
      "2  \t196   \t0.486575\t0.0102186\t0.5\n",
      "3  \t215   \t0.48417 \t0.00693286\t0.5\n",
      "4  \t203   \t0.483678\t0.00802455\t0.5\n",
      "5  \t214   \t0.496961\t0.248971  \t0.5\n",
      "6  \t206   \t0.490458\t0.008787  \t0.5\n",
      "7  \t225   \t0.48491 \t0.0102119 \t0.5\n",
      "8  \t200   \t0.491929\t0.00674751\t0.5\n",
      "9  \t223   \t0.491843\t0.00995049\t0.5\n",
      "10 \t207   \t0.487704\t0.00779836\t0.5\n",
      "synthetic neighborhood class counts {'High Price': 550, 'Low Price': 1}\n",
      "learning local decision tree\n",
      "retrieving explanation\n"
     ]
    }
   ],
   "source": [
    "exp_1 = lore_explainer_1.explain_instance(x, samples=500, use_weights=True, metric=nmeandev)"
   ]
  },
  {
   "cell_type": "code",
   "execution_count": 48,
   "id": "f791e07d",
   "metadata": {},
   "outputs": [
    {
     "name": "stdout",
     "output_type": "stream",
     "text": [
      "r = {  } --> { class: High Price }\n",
      "c =  }\n"
     ]
    }
   ],
   "source": [
    "print(exp_1)"
   ]
  },
  {
   "cell_type": "code",
   "execution_count": 49,
   "id": "2087ff05",
   "metadata": {},
   "outputs": [
    {
     "data": {
      "text/plain": [
       "0"
      ]
     },
     "execution_count": 49,
     "metadata": {},
     "output_type": "execute_result"
    }
   ],
   "source": [
    "Y_pred_1[i2e]"
   ]
  },
  {
   "cell_type": "code",
   "execution_count": 50,
   "id": "d8f62b87",
   "metadata": {},
   "outputs": [
    {
     "data": {
      "text/plain": [
       "array([1969, 55303, 1, 18, 499, 2, 2, 4, True, False, False, True, False,\n",
       "       False, False, True, False, True, False, True, False, True],\n",
       "      dtype=object)"
      ]
     },
     "execution_count": 50,
     "metadata": {},
     "output_type": "execute_result"
    }
   ],
   "source": [
    "x"
   ]
  },
  {
   "cell_type": "code",
   "execution_count": 51,
   "id": "c10068ac",
   "metadata": {},
   "outputs": [],
   "source": [
    "x2 = x.copy()\n"
   ]
  },
  {
   "cell_type": "code",
   "execution_count": 52,
   "id": "258d8e31",
   "metadata": {},
   "outputs": [],
   "source": [
    "x2 = x2.reshape(1,-1)"
   ]
  },
  {
   "cell_type": "code",
   "execution_count": 53,
   "id": "1c8d4b0b",
   "metadata": {},
   "outputs": [
    {
     "data": {
      "text/plain": [
       "array([[1969, 55303, 1, 18, 499, 2, 2, 4, True, False, False, True,\n",
       "        False, False, False, True, False, True, False, True, False, True]],\n",
       "      dtype=object)"
      ]
     },
     "execution_count": 53,
     "metadata": {},
     "output_type": "execute_result"
    }
   ],
   "source": [
    "x2"
   ]
  },
  {
   "cell_type": "code",
   "execution_count": 54,
   "id": "3094c159",
   "metadata": {},
   "outputs": [
    {
     "data": {
      "text/plain": [
       "array([1], dtype=int64)"
      ]
     },
     "execution_count": 54,
     "metadata": {},
     "output_type": "execute_result"
    }
   ],
   "source": [
    "Y_pred_1 = bb_predict(x2)\n",
    "Y_pred_1"
   ]
  }
 ],
 "metadata": {
  "kernelspec": {
   "display_name": "Python 3 (ipykernel)",
   "language": "python",
   "name": "python3"
  },
  "language_info": {
   "codemirror_mode": {
    "name": "ipython",
    "version": 3
   },
   "file_extension": ".py",
   "mimetype": "text/x-python",
   "name": "python",
   "nbconvert_exporter": "python",
   "pygments_lexer": "ipython3",
   "version": "3.11.5"
  }
 },
 "nbformat": 4,
 "nbformat_minor": 5
}
